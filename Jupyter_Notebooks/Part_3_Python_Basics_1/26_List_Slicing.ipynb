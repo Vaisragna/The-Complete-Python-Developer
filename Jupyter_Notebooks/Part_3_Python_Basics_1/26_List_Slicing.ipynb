{
 "cells": [
  {
   "cell_type": "markdown",
   "id": "73477e6e",
   "metadata": {},
   "source": [
    "    List Slicing"
   ]
  },
  {
   "cell_type": "markdown",
   "id": "6399d504",
   "metadata": {},
   "source": [
    "List slicing in Python is a way to access a portion (or \"slice\") of a list by specifying a range of indices."
   ]
  },
  {
   "cell_type": "code",
   "execution_count": 1,
   "id": "96c3a557",
   "metadata": {},
   "outputs": [
    {
     "name": "stdout",
     "output_type": "stream",
     "text": [
      "['notebooks', 'sunglasses', 'toys', 'grapes']\n"
     ]
    }
   ],
   "source": [
    "amazon_cart = [\n",
    "'notebooks', \n",
    "'sunglasses', \n",
    "'toys' , \n",
    "'grapes'\n",
    "]\n",
    "print(amazon_cart)"
   ]
  },
  {
   "cell_type": "markdown",
   "id": "a6a2dcb7",
   "metadata": {},
   "source": [
    "1. List Slicing"
   ]
  },
  {
   "cell_type": "code",
   "execution_count": 2,
   "id": "6cb0ed73",
   "metadata": {},
   "outputs": [
    {
     "name": "stdout",
     "output_type": "stream",
     "text": [
      "['notebooks', 'sunglasses']\n"
     ]
    }
   ],
   "source": [
    "print (amazon_cart[0:2])"
   ]
  },
  {
   "cell_type": "code",
   "execution_count": 3,
   "id": "b99d1ef3",
   "metadata": {},
   "outputs": [
    {
     "name": "stdout",
     "output_type": "stream",
     "text": [
      "['notebooks', 'toys']\n"
     ]
    }
   ],
   "source": [
    "print (amazon_cart[0::2])"
   ]
  },
  {
   "cell_type": "markdown",
   "id": "a7f83624",
   "metadata": {},
   "source": [
    "2. Lists are mutable"
   ]
  },
  {
   "cell_type": "code",
   "execution_count": 4,
   "id": "efaaed90",
   "metadata": {},
   "outputs": [
    {
     "name": "stdout",
     "output_type": "stream",
     "text": [
      "['laptop', 'sunglasses', 'toys', 'grapes']\n"
     ]
    }
   ],
   "source": [
    "amazon_cart[0] = 'laptop'\n",
    "print(amazon_cart)"
   ]
  },
  {
   "cell_type": "code",
   "execution_count": 5,
   "id": "5a2fcfa4",
   "metadata": {},
   "outputs": [
    {
     "name": "stdout",
     "output_type": "stream",
     "text": [
      "['laptop', 'sunglasses', 'toys']\n",
      "['laptop', 'sunglasses', 'toys', 'grapes']\n"
     ]
    }
   ],
   "source": [
    "print(amazon_cart[0:3])\n",
    "print(amazon_cart)"
   ]
  },
  {
   "cell_type": "code",
   "execution_count": 7,
   "id": "4e2349be",
   "metadata": {},
   "outputs": [
    {
     "name": "stdout",
     "output_type": "stream",
     "text": [
      "['laptop', 'sunglasses', 'toys']\n",
      "['laptop', 'sunglasses', 'toys', 'grapes']\n"
     ]
    }
   ],
   "source": [
    "new_cart = amazon_cart[0:3]\n",
    "print(new_cart[0:3])\n",
    "print(amazon_cart)"
   ]
  },
  {
   "cell_type": "code",
   "execution_count": 8,
   "id": "3d944871",
   "metadata": {},
   "outputs": [
    {
     "name": "stdout",
     "output_type": "stream",
     "text": [
      "['gum', 'sunglasses', 'toys']\n",
      "['laptop', 'sunglasses', 'toys', 'grapes']\n"
     ]
    }
   ],
   "source": [
    "new_cart[0] =  'gum'\n",
    "print(new_cart)\n",
    "print(amazon_cart)"
   ]
  },
  {
   "cell_type": "markdown",
   "id": "620c8432",
   "metadata": {},
   "source": [
    "3. List Modifying"
   ]
  },
  {
   "cell_type": "code",
   "execution_count": null,
   "id": "ee344ec2",
   "metadata": {},
   "outputs": [
    {
     "name": "stdout",
     "output_type": "stream",
     "text": [
      "['gumm', 'sunglasses', 'toys', 'grapes']\n",
      "['gumm', 'sunglasses', 'toys', 'grapes']\n"
     ]
    }
   ],
   "source": [
    "new_cart = amazon_cart\n",
    "new_cart[0] = 'gum'\n",
    "print(new_cart)\n",
    "print(amazon_cart)"
   ]
  },
  {
   "cell_type": "markdown",
   "id": "dfee2fe5",
   "metadata": {},
   "source": [
    "4. List Copying"
   ]
  },
  {
   "cell_type": "code",
   "execution_count": 11,
   "id": "9d130b52",
   "metadata": {},
   "outputs": [
    {
     "name": "stdout",
     "output_type": "stream",
     "text": [
      "['gum', 'sunglasses', 'toys', 'grapes']\n",
      "['laptop', 'sunglasses', 'toys', 'grapes']\n"
     ]
    }
   ],
   "source": [
    "amazon_cart[0] = 'laptop'\n",
    "new_cart = amazon_cart[:]\n",
    "new_cart[0] = 'gum'\n",
    "print(new_cart)\n",
    "print(amazon_cart)"
   ]
  }
 ],
 "metadata": {
  "kernelspec": {
   "display_name": "Python 3",
   "language": "python",
   "name": "python3"
  },
  "language_info": {
   "codemirror_mode": {
    "name": "ipython",
    "version": 3
   },
   "file_extension": ".py",
   "mimetype": "text/x-python",
   "name": "python",
   "nbconvert_exporter": "python",
   "pygments_lexer": "ipython3",
   "version": "3.13.3"
  }
 },
 "nbformat": 4,
 "nbformat_minor": 5
}
