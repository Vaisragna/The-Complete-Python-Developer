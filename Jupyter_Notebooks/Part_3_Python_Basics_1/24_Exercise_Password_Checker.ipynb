{
 "cells": [
  {
   "cell_type": "markdown",
   "id": "26c8e13c",
   "metadata": {},
   "source": [
    "    Exercise: Password Checker"
   ]
  },
  {
   "cell_type": "markdown",
   "id": "bdd42584",
   "metadata": {},
   "source": [
    "Make the user input their name and their password then print the name, the password as '*' and the password length."
   ]
  },
  {
   "cell_type": "markdown",
   "id": "9e3686eb",
   "metadata": {
    "vscode": {
     "languageId": "plaintext"
    }
   },
   "source": [
    "1. My Solution"
   ]
  },
  {
   "cell_type": "code",
   "execution_count": null,
   "id": "3b37bbf6",
   "metadata": {},
   "outputs": [
    {
     "name": "stdout",
     "output_type": "stream",
     "text": [
      "Juan, your password ******** is 8 letters long\n"
     ]
    }
   ],
   "source": [
    "# User input\n",
    "user_name = input('What is your name?')\n",
    "user_password = input ('writte your password')\n",
    "\n",
    "# Length calculation\n",
    "password_length = len(user_password)\n",
    "\n",
    "# Security convertion\n",
    "secure_password = '*' * password_length\n",
    "\n",
    "# Output\n",
    "print(f'{user_name}, your password {secure_password} is {password_length} letters long')"
   ]
  },
  {
   "cell_type": "markdown",
   "id": "a2616373",
   "metadata": {},
   "source": [
    "2. Andrei Solution"
   ]
  },
  {
   "cell_type": "code",
   "execution_count": null,
   "id": "bd5e678e",
   "metadata": {},
   "outputs": [
    {
     "name": "stdout",
     "output_type": "stream",
     "text": [
      "Juan, your password,******, is 6 letters long\n"
     ]
    }
   ],
   "source": [
    "username = input('what is your username?')\n",
    "password = input('what is your password?')\n",
    "\n",
    "password_length = len(password)\n",
    "hidden_password = '*' * password_length\n",
    "\n",
    "print(f'{user_name}, your password, {hidden_password}, is {password_length} letters long')"
   ]
  }
 ],
 "metadata": {
  "kernelspec": {
   "display_name": "Python 3",
   "language": "python",
   "name": "python3"
  },
  "language_info": {
   "codemirror_mode": {
    "name": "ipython",
    "version": 3
   },
   "file_extension": ".py",
   "mimetype": "text/x-python",
   "name": "python",
   "nbconvert_exporter": "python",
   "pygments_lexer": "ipython3",
   "version": "3.13.3"
  }
 },
 "nbformat": 4,
 "nbformat_minor": 5
}
