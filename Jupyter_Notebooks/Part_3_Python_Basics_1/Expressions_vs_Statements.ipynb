{
 "cells": [
  {
   "cell_type": "markdown",
   "id": "2b88dd3e",
   "metadata": {},
   "source": [
    "    Expressions vs Statements"
   ]
  },
  {
   "cell_type": "markdown",
   "id": "3900b66a",
   "metadata": {},
   "source": [
    "    1. Expressions"
   ]
  },
  {
   "cell_type": "markdown",
   "id": "9141c2ac",
   "metadata": {},
   "source": [
    "In Python, an expression is any piece of code that produces a value."
   ]
  },
  {
   "cell_type": "code",
   "execution_count": 3,
   "id": "819f1fcf",
   "metadata": {},
   "outputs": [
    {
     "data": {
      "text/plain": [
       "20.0"
      ]
     },
     "execution_count": 3,
     "metadata": {},
     "output_type": "execute_result"
    }
   ],
   "source": [
    "iq = 100\n",
    "iq/5"
   ]
  },
  {
   "cell_type": "markdown",
   "id": "04c934a1",
   "metadata": {},
   "source": [
    "    2. Statement"
   ]
  },
  {
   "cell_type": "markdown",
   "id": "5bcbff8b",
   "metadata": {},
   "source": [
    "In Python, a statement is a complete instruction that the Python interpreter can execute.\n",
    "\n",
    "While expressions produce a value, statements perform an action, such as creating a variable, defining a function, or controlling program flow."
   ]
  },
  {
   "cell_type": "code",
   "execution_count": 4,
   "id": "afd2f6e5",
   "metadata": {},
   "outputs": [],
   "source": [
    "user_age = iq/5"
   ]
  }
 ],
 "metadata": {
  "kernelspec": {
   "display_name": "Python 3",
   "language": "python",
   "name": "python3"
  },
  "language_info": {
   "codemirror_mode": {
    "name": "ipython",
    "version": 3
   },
   "file_extension": ".py",
   "mimetype": "text/x-python",
   "name": "python",
   "nbconvert_exporter": "python",
   "pygments_lexer": "ipython3",
   "version": "3.13.3"
  }
 },
 "nbformat": 4,
 "nbformat_minor": 5
}
