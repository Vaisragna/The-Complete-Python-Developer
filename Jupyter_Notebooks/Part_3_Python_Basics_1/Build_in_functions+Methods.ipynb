{
 "cells": [
  {
   "cell_type": "markdown",
   "id": "4d0c9ca7",
   "metadata": {},
   "source": [
    "    Build in Functions + Methods"
   ]
  },
  {
   "cell_type": "markdown",
   "id": "c1af6d46",
   "metadata": {},
   "source": [
    "Python has many built-in functions that are always available without needing to import any library. These functions perform common tasks like converting types, working with collections, performing math, handling files, and more."
   ]
  },
  {
   "cell_type": "markdown",
   "id": "8bbd619a",
   "metadata": {},
   "source": [
    "1. Example without using Build in methods:"
   ]
  },
  {
   "cell_type": "code",
   "execution_count": 1,
   "id": "bd0ee4aa",
   "metadata": {},
   "outputs": [
    {
     "name": "stdout",
     "output_type": "stream",
     "text": [
      "9\n"
     ]
    }
   ],
   "source": [
    "print(len('hellloooo'))"
   ]
  },
  {
   "cell_type": "code",
   "execution_count": 2,
   "id": "aa9c8d65",
   "metadata": {},
   "outputs": [
    {
     "name": "stdout",
     "output_type": "stream",
     "text": [
      "hellloooo\n"
     ]
    }
   ],
   "source": [
    "greet = 'hellloooo'\n",
    "print(greet[:])"
   ]
  },
  {
   "cell_type": "code",
   "execution_count": 3,
   "id": "371e40c0",
   "metadata": {},
   "outputs": [
    {
     "name": "stdout",
     "output_type": "stream",
     "text": [
      "hellloooo\n"
     ]
    }
   ],
   "source": [
    "print(greet[0:9])"
   ]
  },
  {
   "cell_type": "markdown",
   "id": "b6d0145c",
   "metadata": {},
   "source": [
    "2. String Methods"
   ]
  },
  {
   "cell_type": "markdown",
   "id": "7358b8cd",
   "metadata": {},
   "source": [
    "Python provides many string methods that let you manipulate and inspect string data easily. These methods are built into the str type and are called using dot notation"
   ]
  },
  {
   "cell_type": "code",
   "execution_count": 4,
   "id": "383ca39f",
   "metadata": {},
   "outputs": [
    {
     "name": "stdout",
     "output_type": "stream",
     "text": [
      "TO BE OR NOT TO BE\n"
     ]
    }
   ],
   "source": [
    "quote = 'to be or not to be'\n",
    "print(quote.upper())"
   ]
  },
  {
   "cell_type": "code",
   "execution_count": 5,
   "id": "a447edd6",
   "metadata": {},
   "outputs": [
    {
     "name": "stdout",
     "output_type": "stream",
     "text": [
      "To be or not to be\n"
     ]
    }
   ],
   "source": [
    "print(quote.capitalize())"
   ]
  },
  {
   "cell_type": "code",
   "execution_count": 6,
   "id": "d2a4ee59",
   "metadata": {},
   "outputs": [
    {
     "name": "stdout",
     "output_type": "stream",
     "text": [
      "to be or not to be\n"
     ]
    }
   ],
   "source": [
    "print(quote.lower())"
   ]
  },
  {
   "cell_type": "code",
   "execution_count": 7,
   "id": "717f894b",
   "metadata": {},
   "outputs": [
    {
     "name": "stdout",
     "output_type": "stream",
     "text": [
      "3\n"
     ]
    }
   ],
   "source": [
    "print(quote.find('be'))"
   ]
  },
  {
   "cell_type": "code",
   "execution_count": 9,
   "id": "60121e24",
   "metadata": {},
   "outputs": [
    {
     "name": "stdout",
     "output_type": "stream",
     "text": [
      "to me or not to me\n"
     ]
    }
   ],
   "source": [
    "print(quote.replace('be', 'me'))"
   ]
  },
  {
   "cell_type": "code",
   "execution_count": 10,
   "id": "fc624048",
   "metadata": {},
   "outputs": [
    {
     "name": "stdout",
     "output_type": "stream",
     "text": [
      "to be or not to be\n"
     ]
    }
   ],
   "source": [
    "print(quote)"
   ]
  },
  {
   "cell_type": "code",
   "execution_count": 11,
   "id": "da426f72",
   "metadata": {},
   "outputs": [
    {
     "name": "stdout",
     "output_type": "stream",
     "text": [
      "to me or not to me\n"
     ]
    }
   ],
   "source": [
    "quote2 = quote.replace('be','me')\n",
    "print(quote2)"
   ]
  }
 ],
 "metadata": {
  "kernelspec": {
   "display_name": "Python 3",
   "language": "python",
   "name": "python3"
  },
  "language_info": {
   "codemirror_mode": {
    "name": "ipython",
    "version": 3
   },
   "file_extension": ".py",
   "mimetype": "text/x-python",
   "name": "python",
   "nbconvert_exporter": "python",
   "pygments_lexer": "ipython3",
   "version": "3.13.3"
  }
 },
 "nbformat": 4,
 "nbformat_minor": 5
}
