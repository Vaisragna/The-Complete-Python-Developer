{
 "cells": [
  {
   "cell_type": "markdown",
   "id": "29a3ba5b",
   "metadata": {},
   "source": [
    "    Math Functions"
   ]
  },
  {
   "cell_type": "markdown",
   "id": "adf33020",
   "metadata": {},
   "source": [
    "    1. Round"
   ]
  },
  {
   "cell_type": "code",
   "execution_count": 2,
   "id": "f1b2853b",
   "metadata": {},
   "outputs": [
    {
     "name": "stdout",
     "output_type": "stream",
     "text": [
      "3\n"
     ]
    }
   ],
   "source": [
    "print(round(3.1))"
   ]
  },
  {
   "cell_type": "markdown",
   "id": "732fd0b2",
   "metadata": {},
   "source": [
    "    2. Absolute Value"
   ]
  },
  {
   "cell_type": "code",
   "execution_count": 3,
   "id": "b299dfaa",
   "metadata": {},
   "outputs": [
    {
     "name": "stdout",
     "output_type": "stream",
     "text": [
      "20\n"
     ]
    }
   ],
   "source": [
    "print(abs(-20))"
   ]
  },
  {
   "cell_type": "markdown",
   "id": "c2f20bb6",
   "metadata": {},
   "source": [
    "https://www.programiz.com/python-programming/modules/math"
   ]
  }
 ],
 "metadata": {
  "kernelspec": {
   "display_name": "Python 3",
   "language": "python",
   "name": "python3"
  },
  "language_info": {
   "codemirror_mode": {
    "name": "ipython",
    "version": 3
   },
   "file_extension": ".py",
   "mimetype": "text/x-python",
   "name": "python",
   "nbconvert_exporter": "python",
   "pygments_lexer": "ipython3",
   "version": "3.13.3"
  }
 },
 "nbformat": 4,
 "nbformat_minor": 5
}
