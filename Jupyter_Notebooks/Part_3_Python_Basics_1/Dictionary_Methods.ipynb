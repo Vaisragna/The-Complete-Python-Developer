{
 "cells": [
  {
   "cell_type": "markdown",
   "id": "077d81d9",
   "metadata": {},
   "source": [
    "    Dictionary Methods"
   ]
  },
  {
   "cell_type": "markdown",
   "id": "6c27bccd",
   "metadata": {},
   "source": [
    "Python dictionaries come with several built-in methods that allow you to manipulate and access their data."
   ]
  },
  {
   "cell_type": "code",
   "execution_count": null,
   "id": "348b168d",
   "metadata": {},
   "outputs": [
    {
     "name": "stdout",
     "output_type": "stream",
     "text": [
      "None\n"
     ]
    }
   ],
   "source": [
    " # use methods like .get to avoid error\n",
    "user = {\n",
    "    'basket': [1,2,3],\n",
    "    'greet' : 'hello'\n",
    "}\n",
    "print (user.get('age'))"
   ]
  },
  {
   "cell_type": "markdown",
   "id": "7b815725",
   "metadata": {},
   "source": [
    "Avoid errors in the code"
   ]
  },
  {
   "cell_type": "code",
   "execution_count": null,
   "id": "686fb2c1",
   "metadata": {},
   "outputs": [
    {
     "name": "stdout",
     "output_type": "stream",
     "text": [
      "55\n",
      "{'basket': [1, 2, 3], 'greet': 'hello'}\n"
     ]
    }
   ],
   "source": [
    "# If key doesnt exist create the key (temporal) and assign the value\n",
    "user2 = {\n",
    "    'basket': [1,2,3],\n",
    "    'greet' : 'hello', \n",
    "}\n",
    "print(user2.get('age', 55))\n",
    "print(user2) "
   ]
  },
  {
   "cell_type": "code",
   "execution_count": null,
   "id": "810cc4f0",
   "metadata": {},
   "outputs": [
    {
     "name": "stdout",
     "output_type": "stream",
     "text": [
      "{'name': 'JhonJohn'}\n"
     ]
    }
   ],
   "source": [
    "# another way to create a dictionary\n",
    "user3 = dict(name='JhonJohn') \n",
    "print(user3)"
   ]
  },
  {
   "cell_type": "code",
   "execution_count": 9,
   "id": "20158a39",
   "metadata": {},
   "outputs": [
    {
     "name": "stdout",
     "output_type": "stream",
     "text": [
      "True\n",
      "False\n"
     ]
    }
   ],
   "source": [
    "# exist the key in the dictionary?\n",
    "print('basket' in user)\n",
    "print('size' in user) "
   ]
  },
  {
   "cell_type": "code",
   "execution_count": 13,
   "id": "844787e9",
   "metadata": {},
   "outputs": [
    {
     "name": "stdout",
     "output_type": "stream",
     "text": [
      "False\n",
      "True\n",
      "dict_keys(['basket', 'greet'])\n"
     ]
    }
   ],
   "source": [
    "# another way of finding if a key exist in a dictionary\n",
    "print('age' in user.keys())\n",
    "print('basket' in user.keys())\n",
    "print(user.keys())"
   ]
  },
  {
   "cell_type": "code",
   "execution_count": 15,
   "id": "f2f8098d",
   "metadata": {},
   "outputs": [
    {
     "name": "stdout",
     "output_type": "stream",
     "text": [
      "True\n",
      "False\n",
      "dict_values([[1, 2, 3], 'hello'])\n"
     ]
    }
   ],
   "source": [
    "# existence check and show the values in a directory\n",
    "print('hello' in user.values())\n",
    "print('age' in user.values())\n",
    "print(user.values())"
   ]
  },
  {
   "cell_type": "code",
   "execution_count": 16,
   "id": "aefd5ce1",
   "metadata": {},
   "outputs": [
    {
     "name": "stdout",
     "output_type": "stream",
     "text": [
      "dict_items([('basket', [1, 2, 3]), ('greet', 'hello')])\n"
     ]
    }
   ],
   "source": [
    "# grab items of the dictionaries (keys with values)\n",
    "print(user.items())"
   ]
  },
  {
   "cell_type": "code",
   "execution_count": 18,
   "id": "db3d9a46",
   "metadata": {},
   "outputs": [
    {
     "name": "stdout",
     "output_type": "stream",
     "text": [
      "{}\n"
     ]
    }
   ],
   "source": [
    "# remove whatever the dictionary  has\n",
    "user.clear()\n",
    "print(user)"
   ]
  },
  {
   "cell_type": "code",
   "execution_count": null,
   "id": "3b1aeff8",
   "metadata": {},
   "outputs": [
    {
     "name": "stdout",
     "output_type": "stream",
     "text": [
      "{'basket': [1, 2, 3], 'greet': 'hello'}\n"
     ]
    }
   ],
   "source": [
    "# create a new copy of a dictionary\n",
    "user4 = user2.copy()\n",
    "user2.clear()\n",
    "print(user4)"
   ]
  },
  {
   "cell_type": "code",
   "execution_count": 22,
   "id": "0c29f25e",
   "metadata": {},
   "outputs": [
    {
     "name": "stdout",
     "output_type": "stream",
     "text": [
      "hello\n",
      "{'basket': [1, 2, 3]}\n"
     ]
    }
   ],
   "source": [
    "# remove a key from the dictionary\n",
    "print(user4.pop('greet'))\n",
    "print(user4)"
   ]
  },
  {
   "cell_type": "code",
   "execution_count": null,
   "id": "44f8d06b",
   "metadata": {},
   "outputs": [
    {
     "name": "stdout",
     "output_type": "stream",
     "text": [
      "('age', 22)\n",
      "{'basket': [1, 2, 3], 'greet': 'hello'}\n"
     ]
    }
   ],
   "source": [
    "# eliminate the last item of the dictionary\n",
    "user5 = {\n",
    "    'basket': [1,2,3],\n",
    "    'greet' : 'hello',\n",
    "    'age'   : 22 \n",
    "}\n",
    "print(user5.popitem())\n",
    "print(user5)"
   ]
  },
  {
   "cell_type": "code",
   "execution_count": null,
   "id": "47b04144",
   "metadata": {},
   "outputs": [
    {
     "name": "stdout",
     "output_type": "stream",
     "text": [
      "None\n",
      "{'basket': [1, 2, 3], 'greet': 'hello', 'age': 55}\n"
     ]
    }
   ],
   "source": [
    "# update a key value, if it doesnt exist create it\n",
    "print(user5.update({'age': 55}))\n",
    "print(user5)"
   ]
  }
 ],
 "metadata": {
  "kernelspec": {
   "display_name": "Python 3",
   "language": "python",
   "name": "python3"
  },
  "language_info": {
   "codemirror_mode": {
    "name": "ipython",
    "version": 3
   },
   "file_extension": ".py",
   "mimetype": "text/x-python",
   "name": "python",
   "nbconvert_exporter": "python",
   "pygments_lexer": "ipython3",
   "version": "3.13.3"
  }
 },
 "nbformat": 4,
 "nbformat_minor": 5
}
