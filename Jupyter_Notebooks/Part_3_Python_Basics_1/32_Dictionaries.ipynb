{
 "cells": [
  {
   "cell_type": "markdown",
   "id": "4946853f",
   "metadata": {},
   "source": [
    "    Dictionaries"
   ]
  },
  {
   "cell_type": "markdown",
   "id": "5e152d14",
   "metadata": {},
   "source": [
    "In Python, a dictionary is a built-in data type used to store key-value pairs. It is also known as a hash map or associative array in other languages."
   ]
  },
  {
   "cell_type": "code",
   "execution_count": 1,
   "id": "d59d0aa5",
   "metadata": {},
   "outputs": [
    {
     "name": "stdout",
     "output_type": "stream",
     "text": [
      "2\n"
     ]
    }
   ],
   "source": [
    "dictionary = {\n",
    "    'a': 1,\n",
    "    'b': 2\n",
    "}\n",
    "\n",
    "print(dictionary['b'])"
   ]
  },
  {
   "cell_type": "code",
   "execution_count": 2,
   "id": "aa7524c7",
   "metadata": {},
   "outputs": [
    {
     "name": "stdout",
     "output_type": "stream",
     "text": [
      "[1, 2, 3]\n",
      "hello\n",
      "True\n"
     ]
    }
   ],
   "source": [
    "dictionary = {\n",
    "    'a': [1,2,3],\n",
    "    'b': 'hello',\n",
    "    'x' : True\n",
    "}\n",
    "\n",
    "print(dictionary['a'])\n",
    "print(dictionary['b'])\n",
    "print(dictionary['x'])"
   ]
  },
  {
   "cell_type": "code",
   "execution_count": 4,
   "id": "777f3f4c",
   "metadata": {},
   "outputs": [
    {
     "name": "stdout",
     "output_type": "stream",
     "text": [
      "3\n",
      "False\n"
     ]
    }
   ],
   "source": [
    "my_list = [\n",
    "    {\n",
    "    'a': [1,2,3],\n",
    "    'b': 'hello',\n",
    "    'x' : True\n",
    "    },\n",
    "    {\n",
    "    'a': [4,5,6],\n",
    "    'b': 'bye',\n",
    "    'x' : False\n",
    "    }\n",
    "]\n",
    "print(my_list[0]['a'][2])\n",
    "print(my_list[1]['x'])"
   ]
  }
 ],
 "metadata": {
  "kernelspec": {
   "display_name": "Python 3",
   "language": "python",
   "name": "python3"
  },
  "language_info": {
   "codemirror_mode": {
    "name": "ipython",
    "version": 3
   },
   "file_extension": ".py",
   "mimetype": "text/x-python",
   "name": "python",
   "nbconvert_exporter": "python",
   "pygments_lexer": "ipython3",
   "version": "3.13.3"
  }
 },
 "nbformat": 4,
 "nbformat_minor": 5
}
