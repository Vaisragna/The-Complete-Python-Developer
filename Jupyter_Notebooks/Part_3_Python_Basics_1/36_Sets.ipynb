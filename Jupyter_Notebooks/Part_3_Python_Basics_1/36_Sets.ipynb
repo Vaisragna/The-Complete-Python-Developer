{
 "cells": [
  {
   "cell_type": "markdown",
   "id": "51d2f641",
   "metadata": {},
   "source": [
    "# Sets"
   ]
  },
  {
   "cell_type": "markdown",
   "id": "02bcd8bd",
   "metadata": {},
   "source": [
    "In Python, a set is a built-in data type used to store a collection of unique, unordered items."
   ]
  },
  {
   "cell_type": "code",
   "execution_count": null,
   "id": "75edc821",
   "metadata": {},
   "outputs": [
    {
     "name": "stdout",
     "output_type": "stream",
     "text": [
      "{1, 2, 3, 4, 5}\n",
      "{1, 2, 3, 4, 5}\n"
     ]
    }
   ],
   "source": [
    "# set with only unique values\n",
    "\n",
    "my_set = {1,2,3,4,5}\n",
    "print(my_set)\n",
    "\n",
    "# not unique values are discarted\n",
    "\n",
    "my_set2 = {1,2,2,3,4,5,5}\n",
    "print(my_set2)"
   ]
  },
  {
   "cell_type": "markdown",
   "id": "970faece",
   "metadata": {},
   "source": [
    "    Only unique values can be added to a set"
   ]
  },
  {
   "cell_type": "code",
   "execution_count": null,
   "id": "a75d5017",
   "metadata": {},
   "outputs": [
    {
     "name": "stdout",
     "output_type": "stream",
     "text": [
      "{1, 2, 3, 100}\n"
     ]
    }
   ],
   "source": [
    "my_set3 = {1,2,3}\n",
    "my_set3.add(100)\n",
    "my_set3.add(2)\n",
    "print(my_set3)"
   ]
  },
  {
   "cell_type": "markdown",
   "id": "e364986a",
   "metadata": {},
   "source": [
    "    A list can be converted into a set"
   ]
  },
  {
   "cell_type": "code",
   "execution_count": null,
   "id": "4ef9d0a1",
   "metadata": {},
   "outputs": [
    {
     "data": {
      "text/plain": [
       "{1, 2, 3, 4, 5}"
      ]
     },
     "execution_count": 7,
     "metadata": {},
     "output_type": "execute_result"
    }
   ],
   "source": [
    "my_list = [1,2,3,3,4,5,5]\n",
    "set(my_list)"
   ]
  },
  {
   "cell_type": "markdown",
   "id": "dbdd2ad9",
   "metadata": {},
   "source": [
    "    Way to check existence of a value in a set"
   ]
  },
  {
   "cell_type": "code",
   "execution_count": null,
   "id": "f180344c",
   "metadata": {},
   "outputs": [
    {
     "name": "stdout",
     "output_type": "stream",
     "text": [
      "True\n"
     ]
    }
   ],
   "source": [
    "my_set4 = {1,2,3,4,5,5}\n",
    "print(1 in my_set4)"
   ]
  },
  {
   "cell_type": "markdown",
   "id": "4832b828",
   "metadata": {},
   "source": [
    "    Sets can be converted into lists"
   ]
  },
  {
   "cell_type": "code",
   "execution_count": null,
   "id": "1bf016ff",
   "metadata": {},
   "outputs": [
    {
     "name": "stdout",
     "output_type": "stream",
     "text": [
      "[1, 2, 3, 4]\n"
     ]
    }
   ],
   "source": [
    "my_set5 = {1,2,3,4}\n",
    "print(list(my_set5))"
   ]
  },
  {
   "cell_type": "markdown",
   "id": "a0233cbd",
   "metadata": {},
   "source": [
    "    Sets can be copied"
   ]
  },
  {
   "cell_type": "code",
   "execution_count": null,
   "id": "e9a90cb5",
   "metadata": {},
   "outputs": [
    {
     "name": "stdout",
     "output_type": "stream",
     "text": [
      "{1, 2, 3, 4, 5}\n",
      "set()\n"
     ]
    }
   ],
   "source": [
    "new_set = my_set4.copy()\n",
    "my_set4.clear()\n",
    "print(new_set)\n",
    "print(my_set4)"
   ]
  },
  {
   "cell_type": "markdown",
   "id": "7d493829",
   "metadata": {},
   "source": [
    "# Most important set methods"
   ]
  },
  {
   "cell_type": "markdown",
   "id": "43f2f26c",
   "metadata": {},
   "source": [
    "    .difference()"
   ]
  },
  {
   "cell_type": "code",
   "execution_count": null,
   "id": "625a87f1",
   "metadata": {},
   "outputs": [
    {
     "name": "stdout",
     "output_type": "stream",
     "text": [
      "{1, 2, 3}\n",
      "{1, 2, 3, 4, 5}\n"
     ]
    }
   ],
   "source": [
    "my_set = {1,2,3,4,5}\n",
    "your_set = {4,5,6,7,8,9,10}\n",
    "print(my_set.difference(your_set))\n",
    "print(my_set)"
   ]
  },
  {
   "cell_type": "markdown",
   "id": "11e20306",
   "metadata": {},
   "source": [
    "    .discard()"
   ]
  },
  {
   "cell_type": "code",
   "execution_count": null,
   "id": "01dc91f0",
   "metadata": {},
   "outputs": [
    {
     "name": "stdout",
     "output_type": "stream",
     "text": [
      "{1, 2, 3, 4}\n"
     ]
    }
   ],
   "source": [
    "my_set = {1,2,3,4,5}\n",
    "your_set = {4,5,6,7,8,9,10}\n",
    "my_set.discard(5)\n",
    "print(my_set)"
   ]
  },
  {
   "cell_type": "markdown",
   "id": "dfa396a9",
   "metadata": {},
   "source": [
    "    .difference_update()"
   ]
  },
  {
   "cell_type": "code",
   "execution_count": null,
   "id": "342f7026",
   "metadata": {},
   "outputs": [
    {
     "name": "stdout",
     "output_type": "stream",
     "text": [
      "{1, 2, 3}\n"
     ]
    }
   ],
   "source": [
    "my_set = {1,2,3,4,5}\n",
    "your_set = {4,5,6,7,8,9,10}\n",
    "my_set.difference_update(your_set)\n",
    "print(my_set)"
   ]
  },
  {
   "cell_type": "markdown",
   "id": "aaa8d38d",
   "metadata": {},
   "source": [
    "    .intersection()"
   ]
  },
  {
   "cell_type": "code",
   "execution_count": null,
   "id": "2f595b82",
   "metadata": {},
   "outputs": [
    {
     "name": "stdout",
     "output_type": "stream",
     "text": [
      "{4, 5}\n",
      "{4, 5}\n"
     ]
    }
   ],
   "source": [
    "my_set = {1,2,3,4,5}\n",
    "your_set = {4,5,6,7,8,9,10}\n",
    "print(my_set.intersection(your_set))\n",
    "print(my_set & your_set) # other method"
   ]
  },
  {
   "cell_type": "markdown",
   "id": "c824fce2",
   "metadata": {},
   "source": [
    "    .isdisjoint()"
   ]
  },
  {
   "cell_type": "code",
   "execution_count": null,
   "id": "c23f5e91",
   "metadata": {},
   "outputs": [
    {
     "name": "stdout",
     "output_type": "stream",
     "text": [
      "False\n"
     ]
    }
   ],
   "source": [
    "my_set = {1,2,3,4,5}\n",
    "your_set = {4,5,6,7,8,9,10}\n",
    "print(my_set.isdisjoint(your_set))"
   ]
  },
  {
   "cell_type": "markdown",
   "id": "c9ce4d0c",
   "metadata": {},
   "source": [
    "    .union()"
   ]
  },
  {
   "cell_type": "code",
   "execution_count": 39,
   "id": "bdc1a17e",
   "metadata": {},
   "outputs": [
    {
     "name": "stdout",
     "output_type": "stream",
     "text": [
      "{1, 2, 3, 4, 5}\n",
      "{4, 5, 6, 7, 8, 9, 10}\n",
      "{1, 2, 3, 4, 5, 6, 7, 8, 9, 10}\n",
      "{1, 2, 3, 4, 5, 6, 7, 8, 9, 10}\n"
     ]
    }
   ],
   "source": [
    "my_set = {1,2,3,4,5}\n",
    "your_set = {4,5,6,7,8,9,10}\n",
    "print(my_set)\n",
    "print(your_set)\n",
    "print(my_set.union(your_set))\n",
    "print(my_set | your_set) # other method"
   ]
  },
  {
   "cell_type": "markdown",
   "id": "5c7949db",
   "metadata": {},
   "source": [
    "    .issubset()"
   ]
  },
  {
   "cell_type": "code",
   "execution_count": 38,
   "id": "d8b13b82",
   "metadata": {},
   "outputs": [
    {
     "name": "stdout",
     "output_type": "stream",
     "text": [
      "True\n"
     ]
    }
   ],
   "source": [
    "my_set = {4,5}\n",
    "your_set= {4,5,6,7,8,9,10}\n",
    "print(my_set.issubset(your_set))"
   ]
  },
  {
   "cell_type": "markdown",
   "id": "71181137",
   "metadata": {},
   "source": [
    "    .supperset()"
   ]
  },
  {
   "cell_type": "code",
   "execution_count": 41,
   "id": "89ab5669",
   "metadata": {},
   "outputs": [
    {
     "name": "stdout",
     "output_type": "stream",
     "text": [
      "False\n",
      "True\n"
     ]
    }
   ],
   "source": [
    "my_set = {4,5}\n",
    "your_set= {4,5,6,7,8,9,10}\n",
    "print(my_set.issuperset(your_set))\n",
    "print(your_set.issuperset(my_set))"
   ]
  }
 ],
 "metadata": {
  "kernelspec": {
   "display_name": "Python 3",
   "language": "python",
   "name": "python3"
  },
  "language_info": {
   "codemirror_mode": {
    "name": "ipython",
    "version": 3
   },
   "file_extension": ".py",
   "mimetype": "text/x-python",
   "name": "python",
   "nbconvert_exporter": "python",
   "pygments_lexer": "ipython3",
   "version": "3.13.3"
  }
 },
 "nbformat": 4,
 "nbformat_minor": 5
}
