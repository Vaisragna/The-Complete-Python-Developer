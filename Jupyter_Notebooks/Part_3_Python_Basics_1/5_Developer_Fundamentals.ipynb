{
 "cells": [
  {
   "cell_type": "markdown",
   "id": "b0f07924",
   "metadata": {},
   "source": [
    "    Developer Fundamentals"
   ]
  },
  {
   "cell_type": "markdown",
   "id": "de61772a",
   "metadata": {},
   "source": [
    "1. Dont read the dictionary"
   ]
  },
  {
   "cell_type": "markdown",
   "id": "b6808d25",
   "metadata": {},
   "source": [
    "2. Commenting your code (simple, only comment important things)"
   ]
  },
  {
   "cell_type": "markdown",
   "id": "fe3f47fb",
   "metadata": {},
   "source": [
    "3. List are indexes with ordered values, dictionaries can hold a lot more information (keys and values)."
   ]
  }
 ],
 "metadata": {
  "language_info": {
   "name": "python"
  }
 },
 "nbformat": 4,
 "nbformat_minor": 5
}
