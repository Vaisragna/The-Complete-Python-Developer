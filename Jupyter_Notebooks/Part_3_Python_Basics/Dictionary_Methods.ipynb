{
 "cells": [
  {
   "cell_type": "markdown",
   "id": "077d81d9",
   "metadata": {},
   "source": [
    "    Dictionary Methods"
   ]
  },
  {
   "cell_type": "markdown",
   "id": "6c27bccd",
   "metadata": {},
   "source": [
    "Python dictionaries come with several built-in methods that allow you to manipulate and access their data."
   ]
  },
  {
   "cell_type": "code",
   "execution_count": null,
   "id": "348b168d",
   "metadata": {},
   "outputs": [
    {
     "name": "stdout",
     "output_type": "stream",
     "text": [
      "None\n"
     ]
    }
   ],
   "source": [
    "user = {\n",
    "    'basket': [1,2,3],\n",
    "    'greet' : 'hello'\n",
    "}\n",
    "print (user.get('age'))# use method .get to avoid error"
   ]
  },
  {
   "cell_type": "markdown",
   "id": "7b815725",
   "metadata": {},
   "source": [
    "Avoid errors in the code"
   ]
  },
  {
   "cell_type": "code",
   "execution_count": null,
   "id": "686fb2c1",
   "metadata": {},
   "outputs": [
    {
     "name": "stdout",
     "output_type": "stream",
     "text": [
      "55\n"
     ]
    }
   ],
   "source": [
    "user2 = {\n",
    "    'basket': [1,2,3],\n",
    "    'greet' : 'hello' \n",
    "}\n",
    "print(user2.get('age', 55)) # If age doesnt exist assing  age a value"
   ]
  },
  {
   "cell_type": "code",
   "execution_count": null,
   "id": "810cc4f0",
   "metadata": {},
   "outputs": [
    {
     "name": "stdout",
     "output_type": "stream",
     "text": [
      "{'name': 'JhonJohn'}\n"
     ]
    }
   ],
   "source": [
    "user3 = dict(name='JhonJohn')# another way to create a dictionary\n",
    "print(user3)"
   ]
  }
 ],
 "metadata": {
  "kernelspec": {
   "display_name": "Python 3",
   "language": "python",
   "name": "python3"
  },
  "language_info": {
   "codemirror_mode": {
    "name": "ipython",
    "version": 3
   },
   "file_extension": ".py",
   "mimetype": "text/x-python",
   "name": "python",
   "nbconvert_exporter": "python",
   "pygments_lexer": "ipython3",
   "version": "3.13.3"
  }
 },
 "nbformat": 4,
 "nbformat_minor": 5
}
