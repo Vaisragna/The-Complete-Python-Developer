{
 "cells": [
  {
   "cell_type": "markdown",
   "id": "caead5d8",
   "metadata": {},
   "source": [
    "    Tuples"
   ]
  },
  {
   "cell_type": "markdown",
   "id": "30be7884",
   "metadata": {},
   "source": [
    "In Python, tuples are a built-in data type used to store multiple items in a single variable. They are similar to lists, but immutable, meaning they cannot be changed after creation (no adding, removing, or modifying elements)."
   ]
  },
  {
   "cell_type": "code",
   "execution_count": 2,
   "id": "52dbcad5",
   "metadata": {},
   "outputs": [
    {
     "name": "stdout",
     "output_type": "stream",
     "text": [
      "1\n",
      "True\n"
     ]
    }
   ],
   "source": [
    "my_tuple = (1,2,3,4,5)\n",
    "print(my_tuple[0])\n",
    "print(5 in my_tuple)"
   ]
  },
  {
   "cell_type": "markdown",
   "id": "45c58169",
   "metadata": {},
   "source": [
    "Makes the code more predictible safer to unwanted changes but less flexible than a list"
   ]
  },
  {
   "cell_type": "code",
   "execution_count": null,
   "id": "23757fa4",
   "metadata": {},
   "outputs": [
    {
     "name": "stdout",
     "output_type": "stream",
     "text": [
      "[1, 2, 3]\n"
     ]
    }
   ],
   "source": [
    "# Tuples can also be keys in lists\n",
    "user={\n",
    "    (1,2)   : [1,2,3],\n",
    "    'greet' : 'hello',\n",
    "    'age'   : 20\n",
    "}\n",
    "print(user[(1,2)])"
   ]
  },
  {
   "cell_type": "code",
   "execution_count": 4,
   "id": "bf226a95",
   "metadata": {},
   "outputs": [
    {
     "name": "stdout",
     "output_type": "stream",
     "text": [
      "(2,)\n",
      "(2, 3, 4)\n"
     ]
    }
   ],
   "source": [
    "new_tuple = my_tuple[1:2]\n",
    "new_tuple2 = my_tuple[1:4]\n",
    "print(new_tuple)\n",
    "print(new_tuple2)"
   ]
  },
  {
   "cell_type": "code",
   "execution_count": null,
   "id": "43e2508e",
   "metadata": {},
   "outputs": [
    {
     "name": "stdout",
     "output_type": "stream",
     "text": [
      "1\n",
      "2\n",
      "3\n",
      "[4, 5]\n"
     ]
    }
   ],
   "source": [
    "#Tuples can be extracted as lists\n",
    "x,y,z, *other = (1,2,3,4,5)\n",
    "print(x)\n",
    "print(y)\n",
    "print(z)\n",
    "print(other)"
   ]
  },
  {
   "cell_type": "code",
   "execution_count": null,
   "id": "59613692",
   "metadata": {},
   "outputs": [
    {
     "name": "stdout",
     "output_type": "stream",
     "text": [
      "2\n",
      "3\n",
      "5\n",
      "0\n"
     ]
    }
   ],
   "source": [
    "#Tuple Methods\n",
    "my_tuple3 = (1,2,3,3,4,5,5,5)\n",
    "# .count\n",
    "print(my_tuple3.count(3))\n",
    "print(my_tuple3.count(5))\n",
    "# .index\n",
    "print(my_tuple3.index(5))\n",
    "print(my_tuple3.index(1))"
   ]
  }
 ],
 "metadata": {
  "kernelspec": {
   "display_name": "Python 3",
   "language": "python",
   "name": "python3"
  },
  "language_info": {
   "codemirror_mode": {
    "name": "ipython",
    "version": 3
   },
   "file_extension": ".py",
   "mimetype": "text/x-python",
   "name": "python",
   "nbconvert_exporter": "python",
   "pygments_lexer": "ipython3",
   "version": "3.13.3"
  }
 },
 "nbformat": 4,
 "nbformat_minor": 5
}
