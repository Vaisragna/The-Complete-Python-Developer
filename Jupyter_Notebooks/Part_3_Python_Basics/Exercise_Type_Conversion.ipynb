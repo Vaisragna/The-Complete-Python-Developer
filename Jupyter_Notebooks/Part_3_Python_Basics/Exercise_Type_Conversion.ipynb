{
 "cells": [
  {
   "cell_type": "markdown",
   "id": "de252f0a",
   "metadata": {},
   "source": [
    "    Exercise: Type Conversion"
   ]
  },
  {
   "cell_type": "code",
   "execution_count": 4,
   "id": "3f37d994",
   "metadata": {},
   "outputs": [
    {
     "name": "stdout",
     "output_type": "stream",
     "text": [
      "It's complicated\n"
     ]
    }
   ],
   "source": [
    "name = 'Juan Carvajal'\n",
    "age = 35\n",
    "relationship_status = 'single'\n",
    "\n",
    "relationship_status = 'It\\'s complicated'\n",
    "\n",
    "print(relationship_status)"
   ]
  },
  {
   "cell_type": "markdown",
   "id": "36fb40c9",
   "metadata": {},
   "source": [
    "1. Create a programm that guesses your age"
   ]
  },
  {
   "cell_type": "markdown",
   "id": "823422d8",
   "metadata": {},
   "source": [
    "My Solution: "
   ]
  },
  {
   "cell_type": "code",
   "execution_count": null,
   "id": "83ab92fc",
   "metadata": {},
   "outputs": [
    {
     "name": "stdout",
     "output_type": "stream",
     "text": [
      "1990-04-03 00:00:00\n",
      "2025-07-25 20:12:02.572061\n",
      "35\n"
     ]
    }
   ],
   "source": [
    "from datetime import datetime\n",
    "\n",
    "#Ask bith date\n",
    "birth_year = input('what date were you born?')\n",
    "extracted_date = datetime.strptime(birth_year, '%d.%m.%Y')\n",
    "\n",
    "#Find the actual date\n",
    "today = datetime.today()\n",
    "\n",
    "#Find the age\n",
    "\n",
    "if (today.month, today.year) < (extracted_date.month, extracted_date.year) : age -=1 \n",
    "\n",
    "# Print dates\n",
    "print(extracted_date)\n",
    "print(today)\n",
    "\n",
    "# print age\n",
    "print(age)\n"
   ]
  },
  {
   "cell_type": "markdown",
   "id": "535f2077",
   "metadata": {},
   "source": [
    "Andrei Solution:"
   ]
  },
  {
   "cell_type": "code",
   "execution_count": 2,
   "id": "d37bc53c",
   "metadata": {},
   "outputs": [
    {
     "name": "stdout",
     "output_type": "stream",
     "text": [
      "your age is:35\n"
     ]
    }
   ],
   "source": [
    "birth_year = input ('what year were you born?')\n",
    "\n",
    "age = 2025 - int(birth_year)\n",
    "\n",
    "print(f'your age is:{age}')"
   ]
  }
 ],
 "metadata": {
  "kernelspec": {
   "display_name": "Python 3",
   "language": "python",
   "name": "python3"
  },
  "language_info": {
   "codemirror_mode": {
    "name": "ipython",
    "version": 3
   },
   "file_extension": ".py",
   "mimetype": "text/x-python",
   "name": "python",
   "nbconvert_exporter": "python",
   "pygments_lexer": "ipython3",
   "version": "3.13.3"
  }
 },
 "nbformat": 4,
 "nbformat_minor": 5
}
