{
 "cells": [
  {
   "cell_type": "markdown",
   "id": "5930af04",
   "metadata": {},
   "source": [
    "    List Methods"
   ]
  },
  {
   "cell_type": "markdown",
   "id": "dd95bc4f",
   "metadata": {},
   "source": [
    "In Python, list methods are built-in functions you can use to manipulate lists."
   ]
  },
  {
   "cell_type": "markdown",
   "id": "724452be",
   "metadata": {},
   "source": [
    "1. Adding"
   ]
  },
  {
   "cell_type": "code",
   "execution_count": 2,
   "id": "a117dc35",
   "metadata": {},
   "outputs": [
    {
     "name": "stdout",
     "output_type": "stream",
     "text": [
      "[1, 2, 3, 4, 5, 100]\n",
      "[1, 2, 3, 4, 5, 100]\n"
     ]
    }
   ],
   "source": [
    "basket = [1,2,3,4,5]\n",
    "basket.append(100)\n",
    "new_list = basket\n",
    "print(basket)\n",
    "print(new_list)"
   ]
  },
  {
   "cell_type": "code",
   "execution_count": 10,
   "id": "ceff592c",
   "metadata": {},
   "outputs": [
    {
     "name": "stdout",
     "output_type": "stream",
     "text": [
      "[1, 2, 3, 4, 100, 5]\n",
      "[1, 2, 3, 4, 100, 5]\n"
     ]
    }
   ],
   "source": [
    "basket2 = [1,2,3,4,5]\n",
    "basket2.insert(4, 100)\n",
    "new_list2 = basket2\n",
    "print(basket2)\n",
    "print(new_list2)"
   ]
  },
  {
   "cell_type": "code",
   "execution_count": 12,
   "id": "31a5e03a",
   "metadata": {},
   "outputs": [
    {
     "name": "stdout",
     "output_type": "stream",
     "text": [
      "[1, 2, 3, 4, 5, 101, 102]\n",
      "[1, 2, 3, 4, 5, 101, 102]\n"
     ]
    }
   ],
   "source": [
    "basket3 = [1,2,3,4,5]\n",
    "basket3.extend([101, 102])\n",
    "new_list3 = basket3\n",
    "print(basket3)\n",
    "print(new_list3)"
   ]
  },
  {
   "cell_type": "markdown",
   "id": "04e8fe8e",
   "metadata": {},
   "source": [
    "2. Removing"
   ]
  },
  {
   "cell_type": "code",
   "execution_count": 14,
   "id": "426a05b6",
   "metadata": {},
   "outputs": [
    {
     "name": "stdout",
     "output_type": "stream",
     "text": [
      "[1, 2, 3, 4]\n",
      "5\n"
     ]
    }
   ],
   "source": [
    "basket4 = [1,2,3,4,5]\n",
    "new_list4 = basket4.pop(4)\n",
    "print(basket4)\n",
    "print(new_list4)"
   ]
  },
  {
   "cell_type": "code",
   "execution_count": 15,
   "id": "add18808",
   "metadata": {},
   "outputs": [
    {
     "name": "stdout",
     "output_type": "stream",
     "text": [
      "[2, 3, 4, 5]\n"
     ]
    }
   ],
   "source": [
    "basket5 = [1,2,3,4,5]\n",
    "basket5.pop(0)\n",
    "print(basket5)"
   ]
  },
  {
   "cell_type": "code",
   "execution_count": 16,
   "id": "639a2e82",
   "metadata": {},
   "outputs": [
    {
     "name": "stdout",
     "output_type": "stream",
     "text": [
      "[1, 2, 3, 5]\n"
     ]
    }
   ],
   "source": [
    "basket6 = [1,2,3,4,5]\n",
    "basket6.remove(4)\n",
    "print(basket6)"
   ]
  },
  {
   "cell_type": "code",
   "execution_count": 17,
   "id": "f8aa3763",
   "metadata": {},
   "outputs": [
    {
     "name": "stdout",
     "output_type": "stream",
     "text": [
      "[]\n"
     ]
    }
   ],
   "source": [
    "basket7 = [1,2,3,4,5]\n",
    "basket7.clear()\n",
    "print(basket7)"
   ]
  },
  {
   "cell_type": "code",
   "execution_count": 3,
   "id": "1d136aec",
   "metadata": {},
   "outputs": [
    {
     "name": "stdout",
     "output_type": "stream",
     "text": [
      "3\n"
     ]
    }
   ],
   "source": [
    "basket8 = ['a','b','c','d','e']\n",
    "print(basket8.index('d'))"
   ]
  },
  {
   "cell_type": "code",
   "execution_count": 5,
   "id": "b48541e8",
   "metadata": {},
   "outputs": [
    {
     "name": "stdout",
     "output_type": "stream",
     "text": [
      "3\n"
     ]
    }
   ],
   "source": [
    "basket9 = ['a','b','c','d','e']\n",
    "print(basket8.index('d', 0, 4))"
   ]
  },
  {
   "cell_type": "code",
   "execution_count": 6,
   "id": "48c5c5dd",
   "metadata": {},
   "outputs": [
    {
     "name": "stdout",
     "output_type": "stream",
     "text": [
      "1\n"
     ]
    }
   ],
   "source": [
    "basket10 = ['a','b','c','d','e']\n",
    "print(basket10.count('d'))"
   ]
  },
  {
   "cell_type": "code",
   "execution_count": 8,
   "id": "cf0c6d08",
   "metadata": {},
   "outputs": [
    {
     "name": "stdout",
     "output_type": "stream",
     "text": [
      "['a', 'b', 'c', 'd', 'e', 'f']\n"
     ]
    }
   ],
   "source": [
    "basket11 = ['a','f','b','c','d','e']\n",
    "basket11.sort()\n",
    "print(basket11)"
   ]
  },
  {
   "cell_type": "code",
   "execution_count": 10,
   "id": "6464c812",
   "metadata": {},
   "outputs": [
    {
     "name": "stdout",
     "output_type": "stream",
     "text": [
      "['a', 'b', 'c', 'd', 'e', 'f']\n",
      "['a', 'f', 'b', 'c', 'd', 'e']\n"
     ]
    }
   ],
   "source": [
    "basket12 = ['a','f','b','c','d','e']\n",
    "print(sorted(basket12))\n",
    "print(basket12)"
   ]
  },
  {
   "cell_type": "code",
   "execution_count": 11,
   "id": "3ca98ca1",
   "metadata": {},
   "outputs": [
    {
     "name": "stdout",
     "output_type": "stream",
     "text": [
      "['e', 'd', 'c', 'b', 'f', 'a']\n"
     ]
    }
   ],
   "source": [
    "basket13 = ['a','f','b','c','d','e']\n",
    "basket13.reverse()\n",
    "print(basket13)"
   ]
  }
 ],
 "metadata": {
  "kernelspec": {
   "display_name": "Python 3",
   "language": "python",
   "name": "python3"
  },
  "language_info": {
   "codemirror_mode": {
    "name": "ipython",
    "version": 3
   },
   "file_extension": ".py",
   "mimetype": "text/x-python",
   "name": "python",
   "nbconvert_exporter": "python",
   "pygments_lexer": "ipython3",
   "version": "3.13.3"
  }
 },
 "nbformat": 4,
 "nbformat_minor": 5
}
