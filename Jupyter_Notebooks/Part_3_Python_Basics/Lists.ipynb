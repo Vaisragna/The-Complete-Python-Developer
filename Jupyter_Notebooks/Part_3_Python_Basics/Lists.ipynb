{
 "cells": [
  {
   "cell_type": "markdown",
   "id": "429e64ff",
   "metadata": {},
   "source": [
    "    Lists"
   ]
  },
  {
   "cell_type": "markdown",
   "id": "017af7e5",
   "metadata": {},
   "source": [
    "In Python, lists are ordered collections of items that are mutable (you can change them). They can contain elements of any data type, including numbers, strings, other lists, and even custom objects."
   ]
  },
  {
   "cell_type": "code",
   "execution_count": null,
   "id": "6edc2bd3",
   "metadata": {},
   "outputs": [],
   "source": [
    "li = [1,2,3,4,5]\n",
    "li2 = ['a', 'b', 'c']\n",
    "li3 = [1,2, 'a', True]"
   ]
  },
  {
   "cell_type": "markdown",
   "id": "8b01f2b5",
   "metadata": {},
   "source": [
    "1. Data structure"
   ]
  },
  {
   "cell_type": "markdown",
   "id": "de1edf70",
   "metadata": {},
   "source": [
    "A data structure in Python is a way to organize, manage, and store data so it can be used efficiently. Python provides several built-in data structures to handle different kinds of tasks."
   ]
  },
  {
   "cell_type": "markdown",
   "id": "0c066725",
   "metadata": {},
   "source": [
    "2. Example"
   ]
  },
  {
   "cell_type": "code",
   "execution_count": null,
   "id": "c0ec555f",
   "metadata": {},
   "outputs": [
    {
     "name": "stdout",
     "output_type": "stream",
     "text": [
      "notebooks\n",
      "sunglasses\n"
     ]
    }
   ],
   "source": [
    "amazon_cart = ['notebooks', 'sunglasses']\n",
    "print(amazon_cart[0])\n",
    "print(amazon_cart[1])"
   ]
  }
 ],
 "metadata": {
  "kernelspec": {
   "display_name": "Python 3",
   "language": "python",
   "name": "python3"
  },
  "language_info": {
   "codemirror_mode": {
    "name": "ipython",
    "version": 3
   },
   "file_extension": ".py",
   "mimetype": "text/x-python",
   "name": "python",
   "nbconvert_exporter": "python",
   "pygments_lexer": "ipython3",
   "version": "3.13.3"
  }
 },
 "nbformat": 4,
 "nbformat_minor": 5
}
