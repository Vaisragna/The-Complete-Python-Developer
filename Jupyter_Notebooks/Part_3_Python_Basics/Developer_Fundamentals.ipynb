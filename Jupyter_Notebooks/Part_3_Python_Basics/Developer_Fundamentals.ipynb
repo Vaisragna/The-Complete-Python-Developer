{
 "cells": [
  {
   "cell_type": "markdown",
   "id": "b0f07924",
   "metadata": {},
   "source": [
    "    Developer Fundamentals"
   ]
  },
  {
   "cell_type": "markdown",
   "id": "de61772a",
   "metadata": {},
   "source": [
    "1. Dont read the dictionary"
   ]
  },
  {
   "cell_type": "markdown",
   "id": "b6808d25",
   "metadata": {},
   "source": [
    "2. Commenting your code (simple, only comment important things)"
   ]
  }
 ],
 "metadata": {
  "language_info": {
   "name": "python"
  }
 },
 "nbformat": 4,
 "nbformat_minor": 5
}
