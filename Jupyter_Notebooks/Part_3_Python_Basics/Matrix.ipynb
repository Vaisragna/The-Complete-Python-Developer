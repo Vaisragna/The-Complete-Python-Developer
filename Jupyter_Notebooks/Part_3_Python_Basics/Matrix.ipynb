{
 "cells": [
  {
   "cell_type": "markdown",
   "id": "09168d4c",
   "metadata": {},
   "source": [
    "    Matrix"
   ]
  },
  {
   "cell_type": "markdown",
   "id": "cf06f3da",
   "metadata": {},
   "source": [
    "In Python, a matrix is a way to represent a 2-dimensional array of numbers—like rows and columns of data."
   ]
  },
  {
   "cell_type": "code",
   "execution_count": 1,
   "id": "e2f77775",
   "metadata": {},
   "outputs": [
    {
     "name": "stdout",
     "output_type": "stream",
     "text": [
      "2\n"
     ]
    }
   ],
   "source": [
    "matrix = [\n",
    "    [1,2,3],\n",
    "    [2,4,6],\n",
    "    [7,8,9]\n",
    "]\n",
    "\n",
    "print(matrix[0][1])"
   ]
  }
 ],
 "metadata": {
  "kernelspec": {
   "display_name": "Python 3",
   "language": "python",
   "name": "python3"
  },
  "language_info": {
   "codemirror_mode": {
    "name": "ipython",
    "version": 3
   },
   "file_extension": ".py",
   "mimetype": "text/x-python",
   "name": "python",
   "nbconvert_exporter": "python",
   "pygments_lexer": "ipython3",
   "version": "3.13.3"
  }
 },
 "nbformat": 4,
 "nbformat_minor": 5
}
