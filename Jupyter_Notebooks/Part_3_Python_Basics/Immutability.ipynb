{
 "cells": [
  {
   "cell_type": "markdown",
   "id": "b082b66b",
   "metadata": {},
   "source": [
    "    Immutability"
   ]
  },
  {
   "cell_type": "markdown",
   "id": "3fd8b794",
   "metadata": {},
   "source": [
    "In Python, immutability means that once an object is created, it cannot be changed."
   ]
  },
  {
   "cell_type": "markdown",
   "id": "a54f056e",
   "metadata": {},
   "source": [
    "selfish = '01234567'\n",
    "        #  01234567\n",
    "selfish[0] = '8' --> cannot be done"
   ]
  }
 ],
 "metadata": {
  "language_info": {
   "name": "python"
  }
 },
 "nbformat": 4,
 "nbformat_minor": 5
}
