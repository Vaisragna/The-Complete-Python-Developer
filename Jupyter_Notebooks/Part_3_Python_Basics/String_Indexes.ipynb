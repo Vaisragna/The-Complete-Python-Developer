{
 "cells": [
  {
   "cell_type": "markdown",
   "id": "7af50695",
   "metadata": {},
   "source": [
    "    String Indexes"
   ]
  },
  {
   "cell_type": "code",
   "execution_count": 3,
   "id": "e07e3206",
   "metadata": {},
   "outputs": [
    {
     "name": "stdout",
     "output_type": "stream",
     "text": [
      "m\n",
      "e\n"
     ]
    }
   ],
   "source": [
    "selfish = 'me me me'\n",
    "        #  01234567\n",
    "print(selfish[0])\n",
    "print(selfish[7])"
   ]
  },
  {
   "cell_type": "markdown",
   "id": "38bb3f64",
   "metadata": {},
   "source": [
    "[start : stop]"
   ]
  },
  {
   "cell_type": "code",
   "execution_count": 11,
   "id": "dc852b05",
   "metadata": {},
   "outputs": [
    {
     "name": "stdout",
     "output_type": "stream",
     "text": [
      "01\n",
      "01234567\n"
     ]
    }
   ],
   "source": [
    "selfish_2 = '01234567'\n",
    "          #  01234567\n",
    "print(selfish_2[0:2])\n",
    "print(selfish_2[0:8])"
   ]
  },
  {
   "cell_type": "markdown",
   "id": "492fa0b3",
   "metadata": {},
   "source": [
    "[start : stop : stepover] -> String Slicing"
   ]
  },
  {
   "cell_type": "code",
   "execution_count": 12,
   "id": "38f407dd",
   "metadata": {},
   "outputs": [
    {
     "name": "stdout",
     "output_type": "stream",
     "text": [
      "0246\n"
     ]
    }
   ],
   "source": [
    "print(selfish_2[0:8:2])"
   ]
  },
  {
   "cell_type": "code",
   "execution_count": 13,
   "id": "a4c6dde4",
   "metadata": {},
   "outputs": [
    {
     "name": "stdout",
     "output_type": "stream",
     "text": [
      "1234567\n"
     ]
    }
   ],
   "source": [
    "print(selfish_2[1:])"
   ]
  },
  {
   "cell_type": "code",
   "execution_count": 14,
   "id": "33959517",
   "metadata": {},
   "outputs": [
    {
     "name": "stdout",
     "output_type": "stream",
     "text": [
      "01234\n"
     ]
    }
   ],
   "source": [
    "print(selfish_2[:5])"
   ]
  },
  {
   "cell_type": "code",
   "execution_count": 15,
   "id": "8ea5a72b",
   "metadata": {},
   "outputs": [
    {
     "name": "stdout",
     "output_type": "stream",
     "text": [
      "01234567\n"
     ]
    }
   ],
   "source": [
    "print(selfish_2[::1])"
   ]
  },
  {
   "cell_type": "code",
   "execution_count": 16,
   "id": "39effa99",
   "metadata": {},
   "outputs": [
    {
     "name": "stdout",
     "output_type": "stream",
     "text": [
      "7\n"
     ]
    }
   ],
   "source": [
    "print(selfish_2[-1])"
   ]
  },
  {
   "cell_type": "code",
   "execution_count": 17,
   "id": "be82dbbb",
   "metadata": {},
   "outputs": [
    {
     "name": "stdout",
     "output_type": "stream",
     "text": [
      "6\n"
     ]
    }
   ],
   "source": [
    "print(selfish_2[-2])"
   ]
  },
  {
   "cell_type": "code",
   "execution_count": 18,
   "id": "b99afa95",
   "metadata": {},
   "outputs": [
    {
     "name": "stdout",
     "output_type": "stream",
     "text": [
      "76543210\n"
     ]
    }
   ],
   "source": [
    "print(selfish_2[::-1])"
   ]
  },
  {
   "cell_type": "code",
   "execution_count": 19,
   "id": "167eb3dc",
   "metadata": {},
   "outputs": [
    {
     "name": "stdout",
     "output_type": "stream",
     "text": [
      "7531\n"
     ]
    }
   ],
   "source": [
    "print(selfish_2[::-2])"
   ]
  }
 ],
 "metadata": {
  "kernelspec": {
   "display_name": "Python 3",
   "language": "python",
   "name": "python3"
  },
  "language_info": {
   "codemirror_mode": {
    "name": "ipython",
    "version": 3
   },
   "file_extension": ".py",
   "mimetype": "text/x-python",
   "name": "python",
   "nbconvert_exporter": "python",
   "pygments_lexer": "ipython3",
   "version": "3.13.3"
  }
 },
 "nbformat": 4,
 "nbformat_minor": 5
}
