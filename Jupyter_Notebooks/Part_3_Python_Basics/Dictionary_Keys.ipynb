{
 "cells": [
  {
   "cell_type": "markdown",
   "id": "da5cd5cb",
   "metadata": {},
   "source": [
    "    Dictionary Keys"
   ]
  },
  {
   "cell_type": "markdown",
   "id": "25ca0af7",
   "metadata": {},
   "source": [
    "In Python, dictionary keys are the unique identifiers used to access values in a dictionary."
   ]
  },
  {
   "cell_type": "code",
   "execution_count": 2,
   "id": "9493f365",
   "metadata": {},
   "outputs": [
    {
     "name": "stdout",
     "output_type": "stream",
     "text": [
      "[1, 2, 3]\n",
      "hello\n"
     ]
    }
   ],
   "source": [
    " dictionary = {\n",
    "    123: [1,2,3],\n",
    "    True: 'hello'\n",
    " }\n",
    "\n",
    " print(dictionary[123])\n",
    " print(dictionary[True])"
   ]
  },
  {
   "cell_type": "markdown",
   "id": "dfadd4f7",
   "metadata": {},
   "source": [
    "A key has to be unique"
   ]
  }
 ],
 "metadata": {
  "kernelspec": {
   "display_name": "Python 3",
   "language": "python",
   "name": "python3"
  },
  "language_info": {
   "codemirror_mode": {
    "name": "ipython",
    "version": 3
   },
   "file_extension": ".py",
   "mimetype": "text/x-python",
   "name": "python",
   "nbconvert_exporter": "python",
   "pygments_lexer": "ipython3",
   "version": "3.13.3"
  }
 },
 "nbformat": 4,
 "nbformat_minor": 5
}
