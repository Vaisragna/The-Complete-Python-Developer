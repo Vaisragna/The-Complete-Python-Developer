{
 "cells": [
  {
   "cell_type": "markdown",
   "id": "61f0d546",
   "metadata": {},
   "source": [
    "# Breaking The Flow"
   ]
  },
  {
   "cell_type": "markdown",
   "id": "04ddb128",
   "metadata": {},
   "source": [
    "    Until now:"
   ]
  },
  {
   "cell_type": "markdown",
   "id": "1fafaafb",
   "metadata": {},
   "source": [
    "line by line in order programing and execution."
   ]
  },
  {
   "cell_type": "markdown",
   "id": "4ce6d54a",
   "metadata": {},
   "source": [
    "    What comes next:"
   ]
  },
  {
   "cell_type": "markdown",
   "id": "6d3260bd",
   "metadata": {},
   "source": [
    "More control over a program"
   ]
  }
 ],
 "metadata": {
  "language_info": {
   "name": "python"
  }
 },
 "nbformat": 4,
 "nbformat_minor": 5
}
