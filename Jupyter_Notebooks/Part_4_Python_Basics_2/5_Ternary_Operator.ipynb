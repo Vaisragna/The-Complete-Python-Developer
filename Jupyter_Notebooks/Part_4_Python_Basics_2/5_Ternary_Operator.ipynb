{
 "cells": [
  {
   "cell_type": "markdown",
   "id": "0571b051",
   "metadata": {},
   "source": [
    "# Ternary Operator"
   ]
  },
  {
   "cell_type": "markdown",
   "id": "36bec5c5",
   "metadata": {},
   "source": [
    "In Python, a ternary operator (also called a conditional expression) is a shorthand way to write an if-else statement in a single line."
   ]
  },
  {
   "cell_type": "code",
   "execution_count": 1,
   "id": "1dda730c",
   "metadata": {},
   "outputs": [
    {
     "name": "stdout",
     "output_type": "stream",
     "text": [
      "message allowed\n"
     ]
    }
   ],
   "source": [
    "# Condition_if_true if condition else condition_if_false\n",
    "\n",
    "is_friend = True\n",
    "can_message = \"message allowed\" if is_friend else \"not allowed to message\"\n",
    "\n",
    "print(can_message)"
   ]
  },
  {
   "cell_type": "code",
   "execution_count": 2,
   "id": "be9fc4bd",
   "metadata": {},
   "outputs": [
    {
     "name": "stdout",
     "output_type": "stream",
     "text": [
      "not allowed to message\n"
     ]
    }
   ],
   "source": [
    "is_friend = False\n",
    "can_message = \"message allowed\" if is_friend else \"not allowed to message\"\n",
    "\n",
    "print(can_message)"
   ]
  }
 ],
 "metadata": {
  "kernelspec": {
   "display_name": "Python 3",
   "language": "python",
   "name": "python3"
  },
  "language_info": {
   "codemirror_mode": {
    "name": "ipython",
    "version": 3
   },
   "file_extension": ".py",
   "mimetype": "text/x-python",
   "name": "python",
   "nbconvert_exporter": "python",
   "pygments_lexer": "ipython3",
   "version": "3.13.3"
  }
 },
 "nbformat": 4,
 "nbformat_minor": 5
}
