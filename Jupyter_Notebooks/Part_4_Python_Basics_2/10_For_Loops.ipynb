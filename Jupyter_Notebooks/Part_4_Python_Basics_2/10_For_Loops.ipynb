{
 "cells": [
  {
   "cell_type": "markdown",
   "id": "b50a0291",
   "metadata": {},
   "source": [
    "# For Loops"
   ]
  },
  {
   "cell_type": "markdown",
   "id": "83b3a08b",
   "metadata": {},
   "source": [
    "A for loop in Python is a way to repeat (iterate) over a sequence of items, like a list, tuple, string, dictionary, or a range of numbers.\n",
    "\n",
    "It allows you to execute a block of code multiple times—once for each element in the sequence."
   ]
  },
  {
   "cell_type": "code",
   "execution_count": 7,
   "id": "3a81c949",
   "metadata": {},
   "outputs": [
    {
     "name": "stdout",
     "output_type": "stream",
     "text": [
      "Z\n",
      "e\n",
      "r\n",
      "o\n",
      " \n",
      "t\n",
      "o\n",
      " \n",
      "M\n",
      "a\n",
      "s\n",
      "t\n",
      "e\n",
      "r\n",
      "y\n"
     ]
    }
   ],
   "source": [
    "# strings\n",
    "for item in 'Zero to Mastery':\n",
    "    print(item)"
   ]
  },
  {
   "cell_type": "code",
   "execution_count": 8,
   "id": "ddc94500",
   "metadata": {},
   "outputs": [
    {
     "name": "stdout",
     "output_type": "stream",
     "text": [
      "1\n",
      "2\n",
      "3\n",
      "4\n",
      "5\n"
     ]
    }
   ],
   "source": [
    "# lists\n",
    "for item in [1,2,3,4,5]:\n",
    "    print(item)"
   ]
  },
  {
   "cell_type": "code",
   "execution_count": 9,
   "id": "8b05f31d",
   "metadata": {},
   "outputs": [
    {
     "name": "stdout",
     "output_type": "stream",
     "text": [
      "6\n",
      "7\n",
      "8\n",
      "9\n",
      "10\n"
     ]
    }
   ],
   "source": [
    "# sets \n",
    "for item in {6,7,8,9,10}:\n",
    "    print(item) "
   ]
  },
  {
   "cell_type": "code",
   "execution_count": 10,
   "id": "42199af1",
   "metadata": {},
   "outputs": [
    {
     "name": "stdout",
     "output_type": "stream",
     "text": [
      "11\n",
      "12\n",
      "13\n",
      "14\n",
      "15\n"
     ]
    }
   ],
   "source": [
    "# tuples\n",
    "for item in (11,12,13,14,15):\n",
    "    print(item)      "
   ]
  },
  {
   "cell_type": "markdown",
   "id": "9719cf21",
   "metadata": {},
   "source": [
    "    Multiple for loops"
   ]
  },
  {
   "cell_type": "code",
   "execution_count": 11,
   "id": "865a08cc",
   "metadata": {},
   "outputs": [
    {
     "name": "stdout",
     "output_type": "stream",
     "text": [
      "1\n",
      "1\n",
      "1\n",
      "2\n",
      "2\n",
      "2\n",
      "3\n",
      "3\n",
      "3\n",
      "4\n",
      "4\n",
      "4\n",
      "5\n",
      "5\n",
      "5\n"
     ]
    }
   ],
   "source": [
    "for item in (1,2,3,4,5):\n",
    "    print(item)\n",
    "    print(item)\n",
    "    print(item)"
   ]
  },
  {
   "cell_type": "markdown",
   "id": "aa7bee91",
   "metadata": {},
   "source": [
    "    Nesting"
   ]
  },
  {
   "cell_type": "code",
   "execution_count": 12,
   "id": "2fe2c73a",
   "metadata": {},
   "outputs": [
    {
     "name": "stdout",
     "output_type": "stream",
     "text": [
      "1 a\n",
      "1 b\n",
      "1 c\n",
      "2 a\n",
      "2 b\n",
      "2 c\n",
      "3 a\n",
      "3 b\n",
      "3 c\n",
      "4 a\n",
      "4 b\n",
      "4 c\n",
      "5 a\n",
      "5 b\n",
      "5 c\n"
     ]
    }
   ],
   "source": [
    "for item in (1,2,3,4,5):\n",
    "    for x in ['a','b','c']:\n",
    "        print(item, x)"
   ]
  }
 ],
 "metadata": {
  "kernelspec": {
   "display_name": "Python 3",
   "language": "python",
   "name": "python3"
  },
  "language_info": {
   "codemirror_mode": {
    "name": "ipython",
    "version": 3
   },
   "file_extension": ".py",
   "mimetype": "text/x-python",
   "name": "python",
   "nbconvert_exporter": "python",
   "pygments_lexer": "ipython3",
   "version": "3.13.3"
  }
 },
 "nbformat": 4,
 "nbformat_minor": 5
}
