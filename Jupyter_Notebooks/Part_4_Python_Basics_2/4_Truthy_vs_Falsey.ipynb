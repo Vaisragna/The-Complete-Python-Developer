{
 "cells": [
  {
   "cell_type": "markdown",
   "id": "0cd83f71",
   "metadata": {},
   "source": [
    "# Truthy vs Falsey"
   ]
  },
  {
   "cell_type": "markdown",
   "id": "bc10a706",
   "metadata": {},
   "source": [
    "In Python, the terms Truthy and Falsey describe how values behave when evaluated in a Boolean context (like inside an if, while, or when converted with bool())."
   ]
  },
  {
   "cell_type": "code",
   "execution_count": null,
   "id": "f3df8315",
   "metadata": {},
   "outputs": [
    {
     "name": "stdout",
     "output_type": "stream",
     "text": [
      "you are old enough to drive, and you have a licence!\n"
     ]
    }
   ],
   "source": [
    "is_old = \"Hello\" # Python detect this as a boolean true\n",
    "is_licenced = 5\n",
    "\n",
    "if is_old and is_licenced: \n",
    "    print('you are old enough to drive, and you have a licence!')"
   ]
  },
  {
   "cell_type": "markdown",
   "id": "33f9c4a3",
   "metadata": {},
   "source": [
    "    Truthy"
   ]
  },
  {
   "cell_type": "code",
   "execution_count": 3,
   "id": "d98193db",
   "metadata": {},
   "outputs": [
    {
     "name": "stdout",
     "output_type": "stream",
     "text": [
      "True\n",
      "True\n"
     ]
    }
   ],
   "source": [
    "print(bool(\"Hello\"))\n",
    "print(bool(5))"
   ]
  },
  {
   "cell_type": "markdown",
   "id": "50c70ab2",
   "metadata": {},
   "source": [
    "    Falsey"
   ]
  },
  {
   "cell_type": "code",
   "execution_count": 4,
   "id": "cd2bb444",
   "metadata": {},
   "outputs": [
    {
     "name": "stdout",
     "output_type": "stream",
     "text": [
      "False\n",
      "False\n"
     ]
    }
   ],
   "source": [
    "print(bool(\"\"))\n",
    "print(bool(0))"
   ]
  }
 ],
 "metadata": {
  "kernelspec": {
   "display_name": "Python 3",
   "language": "python",
   "name": "python3"
  },
  "language_info": {
   "codemirror_mode": {
    "name": "ipython",
    "version": 3
   },
   "file_extension": ".py",
   "mimetype": "text/x-python",
   "name": "python",
   "nbconvert_exporter": "python",
   "pygments_lexer": "ipython3",
   "version": "3.13.3"
  }
 },
 "nbformat": 4,
 "nbformat_minor": 5
}
