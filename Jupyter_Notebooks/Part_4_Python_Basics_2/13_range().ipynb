{
 "cells": [
  {
   "cell_type": "markdown",
   "id": "66f3ea2a",
   "metadata": {},
   "source": [
    "# range()"
   ]
  },
  {
   "cell_type": "markdown",
   "id": "bb2fcc4f",
   "metadata": {},
   "source": [
    "In Python, range is a built-in function that generates a sequence of numbers.\n",
    "It’s often used in loops when you want to repeat something a specific number of times."
   ]
  },
  {
   "cell_type": "code",
   "execution_count": null,
   "id": "4a115670",
   "metadata": {},
   "outputs": [
    {
     "name": "stdout",
     "output_type": "stream",
     "text": [
      "range(0, 100)\n",
      "range(0, 100)\n"
     ]
    }
   ],
   "source": [
    "print(range(100))\n",
    "print(range(0, 100))"
   ]
  },
  {
   "cell_type": "code",
   "execution_count": 4,
   "id": "0739adfd",
   "metadata": {},
   "outputs": [
    {
     "name": "stdout",
     "output_type": "stream",
     "text": [
      "0\n",
      "1\n",
      "2\n",
      "3\n",
      "4\n",
      "5\n",
      "6\n",
      "7\n",
      "8\n",
      "9\n",
      "email email list\n",
      "email email list\n",
      "email email list\n",
      "email email list\n",
      "email email list\n",
      "email email list\n",
      "email email list\n",
      "email email list\n",
      "email email list\n",
      "email email list\n"
     ]
    }
   ],
   "source": [
    "for number in range(0, 10):\n",
    "    print(number)\n",
    "\n",
    "for number in range(0, 10):\n",
    "    print('email email list')"
   ]
  },
  {
   "cell_type": "markdown",
   "id": "b77131c6",
   "metadata": {},
   "source": [
    "    Ingreasing and decreasing ranges"
   ]
  },
  {
   "cell_type": "code",
   "execution_count": 6,
   "id": "fd68d7d3",
   "metadata": {},
   "outputs": [
    {
     "name": "stdout",
     "output_type": "stream",
     "text": [
      "0\n",
      "2\n",
      "4\n",
      "6\n",
      "8\n",
      "10\n",
      "8\n",
      "6\n",
      "4\n",
      "2\n"
     ]
    }
   ],
   "source": [
    "for _ in range(0, 10, 2):\n",
    "    print(_)\n",
    "\n",
    "for _ in range(10, 0, -2):\n",
    "    print(_)"
   ]
  },
  {
   "cell_type": "markdown",
   "id": "3f073950",
   "metadata": {},
   "source": [
    "    Range to list conversion"
   ]
  },
  {
   "cell_type": "code",
   "execution_count": 8,
   "id": "6c82e851",
   "metadata": {},
   "outputs": [
    {
     "name": "stdout",
     "output_type": "stream",
     "text": [
      "[0, 1, 2, 3, 4, 5, 6, 7, 8, 9]\n",
      "[0, 1, 2, 3, 4, 5, 6, 7, 8, 9]\n"
     ]
    }
   ],
   "source": [
    "for _ in range(2):\n",
    "    print(list(range(10)))"
   ]
  }
 ],
 "metadata": {
  "kernelspec": {
   "display_name": "Python 3",
   "language": "python",
   "name": "python3"
  },
  "language_info": {
   "codemirror_mode": {
    "name": "ipython",
    "version": 3
   },
   "file_extension": ".py",
   "mimetype": "text/x-python",
   "name": "python",
   "nbconvert_exporter": "python",
   "pygments_lexer": "ipython3",
   "version": "3.13.3"
  }
 },
 "nbformat": 4,
 "nbformat_minor": 5
}
