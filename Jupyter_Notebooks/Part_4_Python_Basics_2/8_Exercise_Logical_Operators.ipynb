{
 "cells": [
  {
   "cell_type": "markdown",
   "id": "be4494bc",
   "metadata": {},
   "source": [
    "# Exercise: Logical Operators"
   ]
  },
  {
   "cell_type": "markdown",
   "id": "70d10ae8",
   "metadata": {},
   "source": [
    "1. Check if magician AND expert : \"you are a master magician\"\n",
    "2. Check id magician but not expert : \"at least you are getting there\"\n",
    "3. if you are not a magician: \"you need magic powers\""
   ]
  },
  {
   "cell_type": "markdown",
   "id": "e50f7e8a",
   "metadata": {},
   "source": [
    "    My Solution"
   ]
  },
  {
   "cell_type": "markdown",
   "id": "d8415d3b",
   "metadata": {
    "vscode": {
     "languageId": "plaintext"
    }
   },
   "source": [
    "1. Task"
   ]
  },
  {
   "cell_type": "code",
   "execution_count": 1,
   "id": "90f19147",
   "metadata": {},
   "outputs": [
    {
     "name": "stdout",
     "output_type": "stream",
     "text": [
      "you are a master magician\n"
     ]
    }
   ],
   "source": [
    "is_magician = True\n",
    "is_expert = True\n",
    "\n",
    "if is_magician and is_expert :\n",
    "    print('you are a master magician')"
   ]
  },
  {
   "cell_type": "markdown",
   "id": "8a17b9d9",
   "metadata": {},
   "source": [
    "2. Task"
   ]
  },
  {
   "cell_type": "code",
   "execution_count": 4,
   "id": "173e6fc5",
   "metadata": {},
   "outputs": [
    {
     "name": "stdout",
     "output_type": "stream",
     "text": [
      "at least you are getting there\n"
     ]
    }
   ],
   "source": [
    "is_magician = True\n",
    "is_expert = False\n",
    "\n",
    "if is_magician:\n",
    "    if is_expert:\n",
    "        print('you are a master magician')\n",
    "    else:\n",
    "        print('at least you are getting there')"
   ]
  },
  {
   "cell_type": "markdown",
   "id": "7ab77300",
   "metadata": {},
   "source": [
    "3. Task"
   ]
  },
  {
   "cell_type": "code",
   "execution_count": 5,
   "id": "9f70697a",
   "metadata": {},
   "outputs": [
    {
     "name": "stdout",
     "output_type": "stream",
     "text": [
      "you need magic powers\n"
     ]
    }
   ],
   "source": [
    "is_magician = False\n",
    "is_expert = False\n",
    "\n",
    "if is_magician:\n",
    "    if is_expert:\n",
    "        print('you are a master magician')\n",
    "    else:\n",
    "        print('at least you are getting there')\n",
    "else:\n",
    "    print('you need magic powers')"
   ]
  },
  {
   "cell_type": "markdown",
   "id": "c10bd0a1",
   "metadata": {},
   "source": [
    "    Andrei Solution"
   ]
  },
  {
   "cell_type": "markdown",
   "id": "0db30f51",
   "metadata": {},
   "source": [
    "1. Task"
   ]
  },
  {
   "cell_type": "code",
   "execution_count": 7,
   "id": "ce37ec22",
   "metadata": {},
   "outputs": [
    {
     "name": "stdout",
     "output_type": "stream",
     "text": [
      "you are a master magician\n"
     ]
    }
   ],
   "source": [
    "is_magician = True\n",
    "is_expert = True\n",
    "\n",
    "if is_expert and is_magician :\n",
    "    print(\"you are a master magician\")"
   ]
  },
  {
   "cell_type": "markdown",
   "id": "0b0a2dc8",
   "metadata": {},
   "source": [
    "2. Task"
   ]
  },
  {
   "cell_type": "code",
   "execution_count": 9,
   "id": "0d6a59e8",
   "metadata": {},
   "outputs": [
    {
     "name": "stdout",
     "output_type": "stream",
     "text": [
      "at least you are getting there\n"
     ]
    }
   ],
   "source": [
    "is_magician = True\n",
    "is_expert = False\n",
    "\n",
    "if is_magician and not is_expert:\n",
    " print(\"at least you are getting there\")"
   ]
  },
  {
   "cell_type": "markdown",
   "id": "74974783",
   "metadata": {},
   "source": [
    "3. Task"
   ]
  },
  {
   "cell_type": "code",
   "execution_count": 10,
   "id": "5a2692b1",
   "metadata": {},
   "outputs": [
    {
     "name": "stdout",
     "output_type": "stream",
     "text": [
      "you need magic powers\n"
     ]
    }
   ],
   "source": [
    "is_magician = False\n",
    "is_expert = False\n",
    "\n",
    "if not is_magician:\n",
    " print(\"you need magic powers\")"
   ]
  },
  {
   "cell_type": "markdown",
   "id": "44a3de9f",
   "metadata": {},
   "source": [
    "    Complete solution"
   ]
  },
  {
   "cell_type": "code",
   "execution_count": 13,
   "id": "536e5f63",
   "metadata": {},
   "outputs": [
    {
     "name": "stdout",
     "output_type": "stream",
     "text": [
      "you need magic powers\n"
     ]
    }
   ],
   "source": [
    "is_magician = False\n",
    "is_expert = False\n",
    "\n",
    "if is_expert and is_magician :\n",
    "    print(\"you are a master magician\")\n",
    "elif is_magician and not is_expert:\n",
    "    print(\"at least you are getting there\")\n",
    "elif not is_magician:\n",
    "    print(\"you need magic powers\")"
   ]
  }
 ],
 "metadata": {
  "kernelspec": {
   "display_name": "Python 3",
   "language": "python",
   "name": "python3"
  },
  "language_info": {
   "codemirror_mode": {
    "name": "ipython",
    "version": 3
   },
   "file_extension": ".py",
   "mimetype": "text/x-python",
   "name": "python",
   "nbconvert_exporter": "python",
   "pygments_lexer": "ipython3",
   "version": "3.13.3"
  }
 },
 "nbformat": 4,
 "nbformat_minor": 5
}
