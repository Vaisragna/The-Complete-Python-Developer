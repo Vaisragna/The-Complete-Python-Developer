{
 "cells": [
  {
   "cell_type": "markdown",
   "id": "c4ffa1d0",
   "metadata": {},
   "source": [
    "# Short Circuiting"
   ]
  },
  {
   "cell_type": "markdown",
   "id": "9a8117b9",
   "metadata": {},
   "source": [
    "Short-circuiting in Python happens when logical operators (and, or) stop evaluating expressions as soon as the result is already determined.\n",
    "This improves efficiency and can even prevent errors."
   ]
  },
  {
   "cell_type": "code",
   "execution_count": 1,
   "id": "d7cb8a63",
   "metadata": {},
   "outputs": [
    {
     "name": "stdout",
     "output_type": "stream",
     "text": [
      "best friends forever\n"
     ]
    }
   ],
   "source": [
    "is_Friend = True\n",
    "is_User = True\n",
    "\n",
    "if is_Friend and is_User:\n",
    "    print('best friends forever')"
   ]
  },
  {
   "cell_type": "code",
   "execution_count": 3,
   "id": "a00c93a5",
   "metadata": {},
   "outputs": [],
   "source": [
    "is_Friend = False\n",
    "is_User = True\n",
    "\n",
    "if is_Friend and is_User:\n",
    "    print('best friends forever')"
   ]
  },
  {
   "cell_type": "code",
   "execution_count": 7,
   "id": "27cedecb",
   "metadata": {},
   "outputs": [],
   "source": [
    "is_Friend = True\n",
    "is_User = False\n",
    "\n",
    "if is_Friend and is_User:\n",
    "    print('best friends forever')"
   ]
  },
  {
   "cell_type": "code",
   "execution_count": 2,
   "id": "e35dcbbd",
   "metadata": {},
   "outputs": [
    {
     "name": "stdout",
     "output_type": "stream",
     "text": [
      "best friends forever\n"
     ]
    }
   ],
   "source": [
    "is_Friend = True\n",
    "is_User = True\n",
    "\n",
    "if is_Friend or is_User:\n",
    "    print('best friends forever')"
   ]
  },
  {
   "cell_type": "code",
   "execution_count": 5,
   "id": "51fd3c60",
   "metadata": {},
   "outputs": [
    {
     "name": "stdout",
     "output_type": "stream",
     "text": [
      "best friends forever\n"
     ]
    }
   ],
   "source": [
    "is_Friend = False\n",
    "is_User = True\n",
    "\n",
    "if is_Friend or is_User:\n",
    "    print('best friends forever')"
   ]
  },
  {
   "cell_type": "code",
   "execution_count": 6,
   "id": "b04571d5",
   "metadata": {},
   "outputs": [
    {
     "name": "stdout",
     "output_type": "stream",
     "text": [
      "best friends forever\n"
     ]
    }
   ],
   "source": [
    "is_Friend = True\n",
    "is_User = False\n",
    "\n",
    "if is_Friend or is_User:\n",
    "    print('best friends forever')"
   ]
  }
 ],
 "metadata": {
  "kernelspec": {
   "display_name": "Python 3",
   "language": "python",
   "name": "python3"
  },
  "language_info": {
   "codemirror_mode": {
    "name": "ipython",
    "version": 3
   },
   "file_extension": ".py",
   "mimetype": "text/x-python",
   "name": "python",
   "nbconvert_exporter": "python",
   "pygments_lexer": "ipython3",
   "version": "3.13.3"
  }
 },
 "nbformat": 4,
 "nbformat_minor": 5
}
