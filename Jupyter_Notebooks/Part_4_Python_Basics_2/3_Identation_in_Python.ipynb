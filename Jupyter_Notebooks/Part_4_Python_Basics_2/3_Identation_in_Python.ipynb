{
 "cells": [
  {
   "cell_type": "markdown",
   "id": "d538fc0c",
   "metadata": {},
   "source": [
    "# Identation in Python"
   ]
  },
  {
   "cell_type": "markdown",
   "id": "03368c91",
   "metadata": {},
   "source": [
    "Indentation in Python refers to the spaces or tabs you put at the beginning of a line of code to define its block structure."
   ]
  },
  {
   "cell_type": "code",
   "execution_count": null,
   "id": "e111ca8c",
   "metadata": {},
   "outputs": [
    {
     "name": "stdout",
     "output_type": "stream",
     "text": [
      "yo are old enough to drive, and you have a licence!\n"
     ]
    }
   ],
   "source": [
    "is_old = True\n",
    "is_licenced = True\n",
    "\n",
    "if is_old and is_licenced: \n",
    "    print('you are old enough to drive, and you have a licence!') # Identation"
   ]
  }
 ],
 "metadata": {
  "kernelspec": {
   "display_name": "Python 3",
   "language": "python",
   "name": "python3"
  },
  "language_info": {
   "codemirror_mode": {
    "name": "ipython",
    "version": 3
   },
   "file_extension": ".py",
   "mimetype": "text/x-python",
   "name": "python",
   "nbconvert_exporter": "python",
   "pygments_lexer": "ipython3",
   "version": "3.13.3"
  }
 },
 "nbformat": 4,
 "nbformat_minor": 5
}
