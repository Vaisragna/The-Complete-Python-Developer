{
 "cells": [
  {
   "cell_type": "markdown",
   "id": "30efbd84",
   "metadata": {},
   "source": [
    "# Conditional Logic"
   ]
  },
  {
   "cell_type": "markdown",
   "id": "e53fa156",
   "metadata": {},
   "source": [
    "In Python, conditional logic is the use of statements that allow your program to make decisions based on whether a condition is True or False.\n",
    "\n",
    "The main tool for conditional logic in Python is the if statement, often combined with elif (\"else if\") and else."
   ]
  },
  {
   "cell_type": "markdown",
   "id": "2033f516",
   "metadata": {},
   "source": [
    "    Booleans are  really important for conditional logic"
   ]
  },
  {
   "cell_type": "code",
   "execution_count": 1,
   "id": "cbd1138b",
   "metadata": {},
   "outputs": [],
   "source": [
    "is_old = True\n",
    "is_licenced = True"
   ]
  },
  {
   "cell_type": "markdown",
   "id": "3322978b",
   "metadata": {},
   "source": [
    "    Conditional if"
   ]
  },
  {
   "cell_type": "code",
   "execution_count": null,
   "id": "771f4b40",
   "metadata": {},
   "outputs": [
    {
     "name": "stdout",
     "output_type": "stream",
     "text": [
      "you are old enough to drive!\n"
     ]
    }
   ],
   "source": [
    "# Conditional if is executed\n",
    "is_old = True\n",
    "\n",
    "if is_old:\n",
    "    print('you are old enough to drive!')"
   ]
  },
  {
   "cell_type": "code",
   "execution_count": null,
   "id": "5b9ff3d3",
   "metadata": {},
   "outputs": [],
   "source": [
    "# Conditional if is ignored\n",
    "is_old = False\n",
    "\n",
    "if is_old:\n",
    "   print('you are old enough to drive!') "
   ]
  },
  {
   "cell_type": "markdown",
   "id": "db64c338",
   "metadata": {},
   "source": [
    "    Conditional else"
   ]
  },
  {
   "cell_type": "code",
   "execution_count": null,
   "id": "1d5490a0",
   "metadata": {},
   "outputs": [
    {
     "name": "stdout",
     "output_type": "stream",
     "text": [
      "you are not of age\n"
     ]
    }
   ],
   "source": [
    "# conditional if is ignored and else is executed\n",
    "is_old = False\n",
    "\n",
    "if is_old:\n",
    "   print('you are old enough to drive!')\n",
    "else:\n",
    "   print('you are not of age!')    "
   ]
  },
  {
   "cell_type": "code",
   "execution_count": null,
   "id": "45901457",
   "metadata": {},
   "outputs": [
    {
     "name": "stdout",
     "output_type": "stream",
     "text": [
      "you are old enough to drive!\n"
     ]
    }
   ],
   "source": [
    "# conditional if is executed and else is ignored\n",
    "is_old = True\n",
    "\n",
    "if is_old:\n",
    "   print('you are old enough to drive!')\n",
    "else:\n",
    "   print('you are not of age!')   "
   ]
  },
  {
   "cell_type": "markdown",
   "id": "37687c9a",
   "metadata": {},
   "source": [
    "    Conditional elif"
   ]
  },
  {
   "cell_type": "markdown",
   "id": "2f14dc52",
   "metadata": {},
   "source": [
    "conditional if and else can only be used one time in succesion, but elif can be used multiple times"
   ]
  },
  {
   "cell_type": "code",
   "execution_count": null,
   "id": "17160b3c",
   "metadata": {},
   "outputs": [
    {
     "name": "stdout",
     "output_type": "stream",
     "text": [
      "you are old enough to drive!\n"
     ]
    }
   ],
   "source": [
    "# Conditional if is executed, elif and else are ignored\n",
    "is_old = True\n",
    "is_licenced = True\n",
    "\n",
    "if is_old:\n",
    "   print('you are old enough to drive!')\n",
    "elif is_licenced:\n",
    "   print('you can drive now')\n",
    "else:\n",
    "   print('you are not of age!')   "
   ]
  },
  {
   "cell_type": "code",
   "execution_count": null,
   "id": "86238035",
   "metadata": {},
   "outputs": [
    {
     "name": "stdout",
     "output_type": "stream",
     "text": [
      "you can drive now\n"
     ]
    }
   ],
   "source": [
    "# conditional if and else are ignored, elif is executed\n",
    "is_old = False\n",
    "is_licenced = True\n",
    "\n",
    "if is_old:\n",
    "   print('you are old enough to drive!')\n",
    "elif is_licenced:\n",
    "   print('you can drive now')\n",
    "else:\n",
    "   print('you are not of age!')   "
   ]
  },
  {
   "cell_type": "code",
   "execution_count": null,
   "id": "3ebb4709",
   "metadata": {},
   "outputs": [
    {
     "name": "stdout",
     "output_type": "stream",
     "text": [
      "you are not of age\n"
     ]
    }
   ],
   "source": [
    "# conditional if and elif are ignored, else is exectuted\n",
    "is_old = False\n",
    "is_licenced = False\n",
    "\n",
    "if is_old:\n",
    "   print('you are old enough to drive!')\n",
    "elif is_licenced:\n",
    "   print('you can drive now')\n",
    "else:\n",
    "   print('you are not of age!')  "
   ]
  },
  {
   "cell_type": "markdown",
   "id": "d760e239",
   "metadata": {},
   "source": [
    "    Double condition"
   ]
  },
  {
   "cell_type": "code",
   "execution_count": null,
   "id": "0fbc3e17",
   "metadata": {},
   "outputs": [
    {
     "name": "stdout",
     "output_type": "stream",
     "text": [
      "you are not of age!\n"
     ]
    }
   ],
   "source": [
    "is_old = False\n",
    "is_licenced = False\n",
    "\n",
    "if is_old and is_licenced:\n",
    "   print('you can drive now')\n",
    "else: \n",
    "   print('you are not of age!')"
   ]
  },
  {
   "cell_type": "code",
   "execution_count": 15,
   "id": "8f033d83",
   "metadata": {},
   "outputs": [
    {
     "name": "stdout",
     "output_type": "stream",
     "text": [
      "you are not of age!\n"
     ]
    }
   ],
   "source": [
    "is_old = False\n",
    "is_licenced = True\n",
    "\n",
    "if is_old and is_licenced:\n",
    "   print('you can drive now')\n",
    "else: \n",
    "   print('you are not of age!')"
   ]
  },
  {
   "cell_type": "code",
   "execution_count": 16,
   "id": "296da2fc",
   "metadata": {},
   "outputs": [
    {
     "name": "stdout",
     "output_type": "stream",
     "text": [
      "you can drive now\n"
     ]
    }
   ],
   "source": [
    "is_old = True\n",
    "is_licenced = True\n",
    "\n",
    "if is_old and is_licenced:\n",
    "   print('you can drive now')\n",
    "else: \n",
    "   print('you are not of age!')"
   ]
  }
 ],
 "metadata": {
  "kernelspec": {
   "display_name": "Python 3",
   "language": "python",
   "name": "python3"
  },
  "language_info": {
   "codemirror_mode": {
    "name": "ipython",
    "version": 3
   },
   "file_extension": ".py",
   "mimetype": "text/x-python",
   "name": "python",
   "nbconvert_exporter": "python",
   "pygments_lexer": "ipython3",
   "version": "3.13.3"
  }
 },
 "nbformat": 4,
 "nbformat_minor": 5
}
