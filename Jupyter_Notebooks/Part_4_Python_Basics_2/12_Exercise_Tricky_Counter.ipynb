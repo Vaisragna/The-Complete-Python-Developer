{
 "cells": [
  {
   "cell_type": "markdown",
   "id": "fb92672e",
   "metadata": {},
   "source": [
    "# Exercise: Tricky Counter"
   ]
  },
  {
   "cell_type": "markdown",
   "id": "e07a37e6",
   "metadata": {},
   "source": [
    "Loop over the iterable list and sum up the total of the list"
   ]
  },
  {
   "cell_type": "code",
   "execution_count": null,
   "id": "9f38d0ce",
   "metadata": {},
   "outputs": [],
   "source": [
    "my_list = [1,2,3,4,5,6,7,8,9,10]"
   ]
  },
  {
   "cell_type": "markdown",
   "id": "db74380b",
   "metadata": {},
   "source": [
    "    My Solution"
   ]
  },
  {
   "cell_type": "code",
   "execution_count": null,
   "id": "04701c3f",
   "metadata": {},
   "outputs": [
    {
     "name": "stdout",
     "output_type": "stream",
     "text": [
      "1\n",
      "3\n",
      "6\n",
      "10\n",
      "15\n",
      "21\n",
      "28\n",
      "36\n",
      "45\n",
      "55\n"
     ]
    }
   ],
   "source": [
    "my_list = [1,2,3,4,5,6,7,8,9,10]\n",
    "\n",
    "counter = 0\n",
    "\n",
    "for x in my_list:\n",
    "    counter += x # for each loop of x counter adds the value of x\n",
    "    print(counter)"
   ]
  },
  {
   "cell_type": "markdown",
   "id": "978d2955",
   "metadata": {},
   "source": [
    "    Andrei solution"
   ]
  },
  {
   "cell_type": "code",
   "execution_count": 5,
   "id": "c7f61ab1",
   "metadata": {},
   "outputs": [
    {
     "name": "stdout",
     "output_type": "stream",
     "text": [
      "55\n"
     ]
    }
   ],
   "source": [
    "my_list = [1,2,3,4,5,6,7,8,9,10]\n",
    "\n",
    "counter = 0\n",
    "\n",
    "for item in my_list:\n",
    "    counter = counter + item\n",
    "print(counter)"
   ]
  }
 ],
 "metadata": {
  "kernelspec": {
   "display_name": "Python 3",
   "language": "python",
   "name": "python3"
  },
  "language_info": {
   "codemirror_mode": {
    "name": "ipython",
    "version": 3
   },
   "file_extension": ".py",
   "mimetype": "text/x-python",
   "name": "python",
   "nbconvert_exporter": "python",
   "pygments_lexer": "ipython3",
   "version": "3.13.3"
  }
 },
 "nbformat": 4,
 "nbformat_minor": 5
}
