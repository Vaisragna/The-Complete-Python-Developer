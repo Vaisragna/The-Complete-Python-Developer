{
 "cells": [
  {
   "cell_type": "markdown",
   "id": "d47d5a43",
   "metadata": {},
   "source": [
    "# Iterables"
   ]
  },
  {
   "cell_type": "markdown",
   "id": "0669c452",
   "metadata": {},
   "source": [
    "An iterable in Python is any object you can loop over with a for loop.\n",
    "Technically, it’s any object that implements the special method __iter__() (or that can return items one by one)."
   ]
  },
  {
   "cell_type": "code",
   "execution_count": null,
   "id": "a9c0f583",
   "metadata": {},
   "outputs": [],
   "source": [
    "#iterable -> list, dictionary, tuple, set, string\n",
    "#iterate -> one by one check each item in the collection."
   ]
  },
  {
   "cell_type": "code",
   "execution_count": 1,
   "id": "ea0541fe",
   "metadata": {},
   "outputs": [
    {
     "name": "stdout",
     "output_type": "stream",
     "text": [
      "name\n",
      "age\n",
      "can_swim\n"
     ]
    }
   ],
   "source": [
    "# Dictionaries\n",
    "user = {\n",
    "    'name': 'Golem',\n",
    "    'age' : 5006,\n",
    "    'can_swim' : False\n",
    "}\n",
    "for item in user:\n",
    "    print(item)"
   ]
  },
  {
   "cell_type": "markdown",
   "id": "d8110ba5",
   "metadata": {},
   "source": [
    "    Common methods"
   ]
  },
  {
   "cell_type": "code",
   "execution_count": 5,
   "id": "c5c5bfa6",
   "metadata": {},
   "outputs": [
    {
     "name": "stdout",
     "output_type": "stream",
     "text": [
      "('name', 'Golem')\n",
      "('age', 5006)\n",
      "('can_swim', False)\n"
     ]
    }
   ],
   "source": [
    "# items\n",
    "user = {\n",
    "    'name': 'Golem',\n",
    "    'age' : 5006,\n",
    "    'can_swim' : False\n",
    "}\n",
    "for item in user.items():\n",
    "    print(item)"
   ]
  },
  {
   "cell_type": "code",
   "execution_count": 6,
   "id": "fff1358c",
   "metadata": {},
   "outputs": [
    {
     "name": "stdout",
     "output_type": "stream",
     "text": [
      "Golem\n",
      "5006\n",
      "False\n"
     ]
    }
   ],
   "source": [
    "# values\n",
    "user = {\n",
    "    'name': 'Golem',\n",
    "    'age' : 5006,\n",
    "    'can_swim' : False\n",
    "}\n",
    "for item in user.values():\n",
    "    print(item)"
   ]
  },
  {
   "cell_type": "code",
   "execution_count": 7,
   "id": "0a188909",
   "metadata": {},
   "outputs": [
    {
     "name": "stdout",
     "output_type": "stream",
     "text": [
      "name\n",
      "age\n",
      "can_swim\n"
     ]
    }
   ],
   "source": [
    "# keys\n",
    "user = {\n",
    "    'name': 'Golem',\n",
    "    'age' : 5006,\n",
    "    'can_swim' : False\n",
    "}\n",
    "for item in user.keys():\n",
    "    print(item)"
   ]
  },
  {
   "cell_type": "code",
   "execution_count": 8,
   "id": "d236ae1c",
   "metadata": {},
   "outputs": [
    {
     "name": "stdout",
     "output_type": "stream",
     "text": [
      "name Golem\n",
      "age 5006\n",
      "can_swim False\n"
     ]
    }
   ],
   "source": [
    "# tuple umpacking\n",
    "\n",
    "user = {\n",
    "    'name': 'Golem',\n",
    "    'age' : 5006,\n",
    "    'can_swim' : False\n",
    "}\n",
    "for key, value in user.items():\n",
    "    print(key, value)"
   ]
  }
 ],
 "metadata": {
  "kernelspec": {
   "display_name": "Python 3",
   "language": "python",
   "name": "python3"
  },
  "language_info": {
   "codemirror_mode": {
    "name": "ipython",
    "version": 3
   },
   "file_extension": ".py",
   "mimetype": "text/x-python",
   "name": "python",
   "nbconvert_exporter": "python",
   "pygments_lexer": "ipython3",
   "version": "3.13.3"
  }
 },
 "nbformat": 4,
 "nbformat_minor": 5
}
