{
 "cells": [
  {
   "cell_type": "markdown",
   "id": "ae0d8916",
   "metadata": {},
   "source": [
    "# Logical Operators"
   ]
  },
  {
   "cell_type": "markdown",
   "id": "05fcbbd1",
   "metadata": {},
   "source": [
    "In Python, logical operators are used to combine or manipulate boolean values (True or False). They are most often used in conditional statements (if, while) and expressions."
   ]
  },
  {
   "cell_type": "markdown",
   "id": "f34fd227",
   "metadata": {},
   "source": [
    "    Greater than"
   ]
  },
  {
   "cell_type": "code",
   "execution_count": 10,
   "id": "fa1337ff",
   "metadata": {},
   "outputs": [
    {
     "name": "stdout",
     "output_type": "stream",
     "text": [
      "False\n",
      "False\n"
     ]
    }
   ],
   "source": [
    "print(4 > 5)\n",
    "print('a' > 'b')"
   ]
  },
  {
   "cell_type": "markdown",
   "id": "c029f5ca",
   "metadata": {},
   "source": [
    "In Python, when you compare characters like 'a' > 'A', you’re not comparing them by “alphabetical order” in the dictionary sense — you’re comparing their Unicode code points (numerical values in the Unicode/ASCII table)."
   ]
  },
  {
   "cell_type": "code",
   "execution_count": null,
   "id": "4fa28189",
   "metadata": {},
   "outputs": [
    {
     "name": "stdout",
     "output_type": "stream",
     "text": [
      "True\n"
     ]
    }
   ],
   "source": [
    "print('a' > 'A')"
   ]
  },
  {
   "cell_type": "markdown",
   "id": "74000010",
   "metadata": {},
   "source": [
    "    Lower than"
   ]
  },
  {
   "cell_type": "code",
   "execution_count": 9,
   "id": "f532a672",
   "metadata": {},
   "outputs": [
    {
     "name": "stdout",
     "output_type": "stream",
     "text": [
      "True\n",
      "True\n"
     ]
    }
   ],
   "source": [
    "print(4 < 5)\n",
    "print('a' < 'b')"
   ]
  },
  {
   "cell_type": "markdown",
   "id": "ddafa205",
   "metadata": {},
   "source": [
    "    Greater + Lower than"
   ]
  },
  {
   "cell_type": "code",
   "execution_count": 5,
   "id": "c894b01a",
   "metadata": {},
   "outputs": [
    {
     "name": "stdout",
     "output_type": "stream",
     "text": [
      "False\n"
     ]
    }
   ],
   "source": [
    "print(1 < 2 > 3 < 4)"
   ]
  },
  {
   "cell_type": "markdown",
   "id": "275851c8",
   "metadata": {},
   "source": [
    "    Equal to"
   ]
  },
  {
   "cell_type": "code",
   "execution_count": 3,
   "id": "7e25e4f7",
   "metadata": {},
   "outputs": [
    {
     "name": "stdout",
     "output_type": "stream",
     "text": [
      "False\n"
     ]
    }
   ],
   "source": [
    "print(4 == 5)"
   ]
  },
  {
   "cell_type": "markdown",
   "id": "e7b75d09",
   "metadata": {},
   "source": [
    "    Greater than or equal to"
   ]
  },
  {
   "cell_type": "code",
   "execution_count": 6,
   "id": "ec6709a7",
   "metadata": {},
   "outputs": [
    {
     "name": "stdout",
     "output_type": "stream",
     "text": [
      "True\n"
     ]
    }
   ],
   "source": [
    "print(1 >= 0)"
   ]
  },
  {
   "cell_type": "markdown",
   "id": "80b4eb75",
   "metadata": {},
   "source": [
    "    Less than or equal to"
   ]
  },
  {
   "cell_type": "code",
   "execution_count": null,
   "id": "de40a973",
   "metadata": {},
   "outputs": [
    {
     "name": "stdout",
     "output_type": "stream",
     "text": [
      "False\n"
     ]
    }
   ],
   "source": [
    "print( 1 <= 0 )"
   ]
  },
  {
   "cell_type": "markdown",
   "id": "6bdc9eea",
   "metadata": {},
   "source": [
    "    Not equal to"
   ]
  },
  {
   "cell_type": "code",
   "execution_count": 11,
   "id": "4e0e8b03",
   "metadata": {},
   "outputs": [
    {
     "name": "stdout",
     "output_type": "stream",
     "text": [
      "False\n",
      "True\n"
     ]
    }
   ],
   "source": [
    "print( 0 != 0 )\n",
    "print( 0 != 1 )"
   ]
  },
  {
   "cell_type": "markdown",
   "id": "c5d7deba",
   "metadata": {},
   "source": [
    "    Not"
   ]
  },
  {
   "cell_type": "code",
   "execution_count": 13,
   "id": "25d3e321",
   "metadata": {},
   "outputs": [
    {
     "name": "stdout",
     "output_type": "stream",
     "text": [
      "False\n",
      "True\n",
      "False\n"
     ]
    }
   ],
   "source": [
    "print(not(True))\n",
    "print(not(False))\n",
    "print(not( 1 == 1 ))"
   ]
  }
 ],
 "metadata": {
  "kernelspec": {
   "display_name": "Python 3",
   "language": "python",
   "name": "python3"
  },
  "language_info": {
   "codemirror_mode": {
    "name": "ipython",
    "version": 3
   },
   "file_extension": ".py",
   "mimetype": "text/x-python",
   "name": "python",
   "nbconvert_exporter": "python",
   "pygments_lexer": "ipython3",
   "version": "3.13.3"
  }
 },
 "nbformat": 4,
 "nbformat_minor": 5
}
