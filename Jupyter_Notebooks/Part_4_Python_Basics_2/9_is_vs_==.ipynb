{
 "cells": [
  {
   "cell_type": "markdown",
   "id": "6f0c3f57",
   "metadata": {},
   "source": [
    "# Is vs =="
   ]
  },
  {
   "cell_type": "markdown",
   "id": "2f1f6f62",
   "metadata": {},
   "source": [
    "is and == look similar in Python, but they check different things:"
   ]
  },
  {
   "cell_type": "markdown",
   "id": "53918bfa",
   "metadata": {},
   "source": [
    "    Equality"
   ]
  },
  {
   "cell_type": "markdown",
   "id": "2fd3ad61",
   "metadata": {},
   "source": [
    "Compares values (do the objects have the same content?)."
   ]
  },
  {
   "cell_type": "code",
   "execution_count": 3,
   "id": "667387e6",
   "metadata": {},
   "outputs": [
    {
     "name": "stdout",
     "output_type": "stream",
     "text": [
      "True\n",
      "False\n",
      "False\n",
      "True\n",
      "True\n"
     ]
    }
   ],
   "source": [
    "print(True == 1)\n",
    "print('1' == 1)\n",
    "print([] == 1)\n",
    "print(10 == 10.0)\n",
    "print([] == [])"
   ]
  },
  {
   "cell_type": "markdown",
   "id": "aa14811f",
   "metadata": {},
   "source": [
    "    Identity"
   ]
  },
  {
   "cell_type": "markdown",
   "id": "3c0e5b02",
   "metadata": {},
   "source": [
    "Compares object identity (do both variables point to the exact same object in memory?)."
   ]
  },
  {
   "cell_type": "code",
   "execution_count": null,
   "id": "d106fe2e",
   "metadata": {},
   "outputs": [
    {
     "name": "stdout",
     "output_type": "stream",
     "text": [
      "False\n",
      "False\n",
      "False\n",
      "False\n",
      "False\n"
     ]
    },
    {
     "name": "stderr",
     "output_type": "stream",
     "text": [
      "<>:1: SyntaxWarning: \"is\" with 'int' literal. Did you mean \"==\"?\n",
      "<>:2: SyntaxWarning: \"is\" with 'str' literal. Did you mean \"==\"?\n",
      "<>:3: SyntaxWarning: \"is\" with 'int' literal. Did you mean \"==\"?\n",
      "<>:4: SyntaxWarning: \"is\" with 'int' literal. Did you mean \"==\"?\n",
      "<>:1: SyntaxWarning: \"is\" with 'int' literal. Did you mean \"==\"?\n",
      "<>:2: SyntaxWarning: \"is\" with 'str' literal. Did you mean \"==\"?\n",
      "<>:3: SyntaxWarning: \"is\" with 'int' literal. Did you mean \"==\"?\n",
      "<>:4: SyntaxWarning: \"is\" with 'int' literal. Did you mean \"==\"?\n",
      "C:\\Users\\juans\\AppData\\Local\\Temp\\ipykernel_42500\\3244904974.py:1: SyntaxWarning: \"is\" with 'int' literal. Did you mean \"==\"?\n",
      "  print(True is 1)\n",
      "C:\\Users\\juans\\AppData\\Local\\Temp\\ipykernel_42500\\3244904974.py:2: SyntaxWarning: \"is\" with 'str' literal. Did you mean \"==\"?\n",
      "  print('1' is 1)\n",
      "C:\\Users\\juans\\AppData\\Local\\Temp\\ipykernel_42500\\3244904974.py:3: SyntaxWarning: \"is\" with 'int' literal. Did you mean \"==\"?\n",
      "  print([] is 1)\n",
      "C:\\Users\\juans\\AppData\\Local\\Temp\\ipykernel_42500\\3244904974.py:4: SyntaxWarning: \"is\" with 'int' literal. Did you mean \"==\"?\n",
      "  print(10 is 10.0)\n"
     ]
    }
   ],
   "source": [
    "print(True is 1)\n",
    "print('1' is 1)\n",
    "print([] is 1)\n",
    "print(10 is 10.0)\n",
    "print([] is []) # lists in different locations in memory"
   ]
  }
 ],
 "metadata": {
  "kernelspec": {
   "display_name": "Python 3",
   "language": "python",
   "name": "python3"
  },
  "language_info": {
   "codemirror_mode": {
    "name": "ipython",
    "version": 3
   },
   "file_extension": ".py",
   "mimetype": "text/x-python",
   "name": "python",
   "nbconvert_exporter": "python",
   "pygments_lexer": "ipython3",
   "version": "3.13.3"
  }
 },
 "nbformat": 4,
 "nbformat_minor": 5
}
