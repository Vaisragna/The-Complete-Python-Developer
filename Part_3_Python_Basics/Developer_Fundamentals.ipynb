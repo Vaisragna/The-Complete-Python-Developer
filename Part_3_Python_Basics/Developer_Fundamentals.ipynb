{
 "cells": [
  {
   "cell_type": "markdown",
   "id": "b0f07924",
   "metadata": {},
   "source": [
    "    Developer Fundamentals"
   ]
  },
  {
   "cell_type": "markdown",
   "id": "de61772a",
   "metadata": {},
   "source": [
    "1. Dont read the dictionary"
   ]
  }
 ],
 "metadata": {
  "language_info": {
   "name": "python"
  }
 },
 "nbformat": 4,
 "nbformat_minor": 5
}
