{
 "cells": [
  {
   "cell_type": "markdown",
   "id": "26bf4d2c",
   "metadata": {},
   "source": [
    "    Operator Precedence"
   ]
  },
  {
   "cell_type": "markdown",
   "id": "2f9d7bb4",
   "metadata": {},
   "source": [
    "Operator precedence in Python determines the order in which operations are evaluated in an expression. Operators with higher precedence are evaluated before those with lower precedence, similar to how multiplication is done before addition in math."
   ]
  },
  {
   "cell_type": "markdown",
   "id": "faf3dbbf",
   "metadata": {},
   "source": [
    "1. ()"
   ]
  },
  {
   "cell_type": "markdown",
   "id": "5f257fd0",
   "metadata": {},
   "source": [
    "2. **"
   ]
  },
  {
   "cell_type": "markdown",
   "id": "bf201dba",
   "metadata": {},
   "source": [
    "3. *, /, //, %"
   ]
  },
  {
   "cell_type": "markdown",
   "id": "1f7f701f",
   "metadata": {},
   "source": [
    "4. +-"
   ]
  }
 ],
 "metadata": {
  "language_info": {
   "name": "python"
  }
 },
 "nbformat": 4,
 "nbformat_minor": 5
}
