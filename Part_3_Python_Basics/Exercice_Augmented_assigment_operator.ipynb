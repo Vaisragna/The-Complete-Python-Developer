{
 "cells": [
  {
   "cell_type": "markdown",
   "id": "62aef954",
   "metadata": {},
   "source": [
    "    Exercice: Augmented assignment operator "
   ]
  },
  {
   "cell_type": "markdown",
   "id": "abe1215e",
   "metadata": {},
   "source": [
    "Guess what happens here before you click RUN!"
   ]
  },
  {
   "cell_type": "code",
   "execution_count": 2,
   "id": "5387e5e0",
   "metadata": {},
   "outputs": [],
   "source": [
    "counter = 0"
   ]
  },
  {
   "cell_type": "markdown",
   "id": "90674b91",
   "metadata": {},
   "source": [
    "Guess: assign the value 0 to the variable \"counter\""
   ]
  },
  {
   "cell_type": "code",
   "execution_count": 3,
   "id": "dda8675f",
   "metadata": {},
   "outputs": [],
   "source": [
    "counter += 1"
   ]
  },
  {
   "cell_type": "markdown",
   "id": "8c9156e3",
   "metadata": {},
   "source": [
    "Guess: adds 1 to the counter variable\n",
    "\n",
    "The new value of counter is 1"
   ]
  },
  {
   "cell_type": "code",
   "execution_count": 4,
   "id": "648acc47",
   "metadata": {},
   "outputs": [],
   "source": [
    "counter += 1"
   ]
  },
  {
   "cell_type": "markdown",
   "id": "1aa490a7",
   "metadata": {},
   "source": [
    "Guess: adds 1 to the counter variable\n",
    "\n",
    "The new value of counter is 2"
   ]
  },
  {
   "cell_type": "code",
   "execution_count": 5,
   "id": "fbb99e64",
   "metadata": {},
   "outputs": [],
   "source": [
    "counter += 1"
   ]
  },
  {
   "cell_type": "markdown",
   "id": "51f20598",
   "metadata": {},
   "source": [
    "Guess: adds 1 to the counter variable\n",
    "\n",
    "The new value of counter is 3"
   ]
  },
  {
   "cell_type": "code",
   "execution_count": 6,
   "id": "10029c33",
   "metadata": {},
   "outputs": [],
   "source": [
    "counter += 1"
   ]
  },
  {
   "cell_type": "markdown",
   "id": "ff0b788a",
   "metadata": {},
   "source": [
    "Guess: adds 1 to the counter variable\n",
    "\n",
    "The new value of counter is 4"
   ]
  },
  {
   "cell_type": "code",
   "execution_count": 7,
   "id": "f538919f",
   "metadata": {},
   "outputs": [],
   "source": [
    "counter -= 1"
   ]
  },
  {
   "cell_type": "markdown",
   "id": "0a69feac",
   "metadata": {},
   "source": [
    "Guess: substracts 1 to the counter variable\n",
    "\n",
    "The new value of counter is 3"
   ]
  },
  {
   "cell_type": "code",
   "execution_count": 8,
   "id": "bddcaed0",
   "metadata": {},
   "outputs": [],
   "source": [
    "counter *= 2"
   ]
  },
  {
   "cell_type": "markdown",
   "id": "26aca5ea",
   "metadata": {},
   "source": [
    "Guess: multiplies by 2 the value in counter variable\n",
    "\n",
    "The new value of counter is 6"
   ]
  },
  {
   "cell_type": "code",
   "execution_count": 9,
   "id": "71519bf2",
   "metadata": {},
   "outputs": [
    {
     "name": "stdout",
     "output_type": "stream",
     "text": [
      "6\n"
     ]
    }
   ],
   "source": [
    "print(counter) #what will this print?"
   ]
  },
  {
   "cell_type": "markdown",
   "id": "d5513d68",
   "metadata": {},
   "source": [
    "Guess: it will print the value 6"
   ]
  }
 ],
 "metadata": {
  "kernelspec": {
   "display_name": "Python 3",
   "language": "python",
   "name": "python3"
  },
  "language_info": {
   "codemirror_mode": {
    "name": "ipython",
    "version": 3
   },
   "file_extension": ".py",
   "mimetype": "text/x-python",
   "name": "python",
   "nbconvert_exporter": "python",
   "pygments_lexer": "ipython3",
   "version": "3.13.3"
  }
 },
 "nbformat": 4,
 "nbformat_minor": 5
}
