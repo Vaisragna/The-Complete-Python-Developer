{
 "cells": [
  {
   "cell_type": "markdown",
   "id": "2cd38a35",
   "metadata": {},
   "source": [
    "    Augmented assignment operator"
   ]
  },
  {
   "cell_type": "markdown",
   "id": "089ce52f",
   "metadata": {},
   "source": [
    "An augmented assignment operator in Python is a shorthand way to update the value of a variable using an operation and assignment in one step."
   ]
  },
  {
   "cell_type": "code",
   "execution_count": 5,
   "id": "250ab457",
   "metadata": {},
   "outputs": [],
   "source": [
    "some_value = 5"
   ]
  },
  {
   "cell_type": "code",
   "execution_count": 6,
   "id": "0ac821fb",
   "metadata": {},
   "outputs": [
    {
     "name": "stdout",
     "output_type": "stream",
     "text": [
      "7\n"
     ]
    }
   ],
   "source": [
    "some_value += 2\n",
    "print(some_value)"
   ]
  },
  {
   "cell_type": "code",
   "execution_count": 8,
   "id": "5fe0813b",
   "metadata": {},
   "outputs": [
    {
     "name": "stdout",
     "output_type": "stream",
     "text": [
      "5\n"
     ]
    }
   ],
   "source": [
    "some_value -= 2\n",
    "print(some_value)"
   ]
  },
  {
   "cell_type": "code",
   "execution_count": 9,
   "id": "b6f66050",
   "metadata": {},
   "outputs": [
    {
     "name": "stdout",
     "output_type": "stream",
     "text": [
      "10\n"
     ]
    }
   ],
   "source": [
    "some_value *= 2\n",
    "print(some_value)"
   ]
  }
 ],
 "metadata": {
  "kernelspec": {
   "display_name": "Python 3",
   "language": "python",
   "name": "python3"
  },
  "language_info": {
   "codemirror_mode": {
    "name": "ipython",
    "version": 3
   },
   "file_extension": ".py",
   "mimetype": "text/x-python",
   "name": "python",
   "nbconvert_exporter": "python",
   "pygments_lexer": "ipython3",
   "version": "3.13.3"
  }
 },
 "nbformat": 4,
 "nbformat_minor": 5
}
