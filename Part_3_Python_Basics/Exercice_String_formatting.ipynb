{
 "cells": [
  {
   "cell_type": "markdown",
   "id": "b4d5abf3",
   "metadata": {},
   "source": [
    "    Exercice: String formatting"
   ]
  },
  {
   "cell_type": "markdown",
   "id": "0da02c45",
   "metadata": {},
   "source": [
    "1. What would be the output of the below 4 print statements?\n",
    "Try to answer these before you click RUN! \n"
   ]
  },
  {
   "cell_type": "code",
   "execution_count": 1,
   "id": "3313aedc",
   "metadata": {},
   "outputs": [
    {
     "name": "stdout",
     "output_type": "stream",
     "text": [
      "Hello Cindy, your balance is 50.\n"
     ]
    }
   ],
   "source": [
    "print(\"Hello {}, your balance is {}.\".format(\"Cindy\", 50))"
   ]
  },
  {
   "cell_type": "markdown",
   "id": "f197882a",
   "metadata": {},
   "source": [
    "Guess: Hello Cindy, your balance is 50."
   ]
  },
  {
   "cell_type": "code",
   "execution_count": 2,
   "id": "1f557da8",
   "metadata": {},
   "outputs": [
    {
     "name": "stdout",
     "output_type": "stream",
     "text": [
      "Hello Cindy, your balance is 50.\n"
     ]
    }
   ],
   "source": [
    "print(\"Hello {0}, your balance is {1}.\".format(\"Cindy\", 50))"
   ]
  },
  {
   "cell_type": "markdown",
   "id": "165c6058",
   "metadata": {},
   "source": [
    "Guess: Hello Cindy, your balance is 50."
   ]
  },
  {
   "cell_type": "code",
   "execution_count": null,
   "id": "c7d2fcfd",
   "metadata": {},
   "outputs": [],
   "source": [
    "print(\"Hello {name}, your balance is {amount}.\".format(name=\"Cindy\", amount=50))"
   ]
  },
  {
   "cell_type": "markdown",
   "id": "4c944c20",
   "metadata": {},
   "source": [
    "Guess: Hello Cindy, your balance is 50."
   ]
  },
  {
   "cell_type": "code",
   "execution_count": 3,
   "id": "74a9c286",
   "metadata": {},
   "outputs": [
    {
     "name": "stdout",
     "output_type": "stream",
     "text": [
      "Hello Cindy, your balance is 50.\n"
     ]
    }
   ],
   "source": [
    "print(\"Hello {0}, your balance is {amount}.\".format(\"Cindy\", amount=50))"
   ]
  },
  {
   "cell_type": "markdown",
   "id": "4f064911",
   "metadata": {},
   "source": [
    "Guess: Hello Cindy, your balance is 50."
   ]
  },
  {
   "cell_type": "markdown",
   "id": "1785c18c",
   "metadata": {},
   "source": [
    "2. How would you write this using f-string?"
   ]
  },
  {
   "cell_type": "code",
   "execution_count": 4,
   "id": "6d3d1455",
   "metadata": {},
   "outputs": [
    {
     "name": "stdout",
     "output_type": "stream",
     "text": [
      "Hello Cindy, you balance is 50.\n"
     ]
    }
   ],
   "source": [
    "name = \"Cindy\"\n",
    "amount = 50\n",
    "print(f\"Hello {name}, you balance is {amount}.\")"
   ]
  }
 ],
 "metadata": {
  "kernelspec": {
   "display_name": "Python 3",
   "language": "python",
   "name": "python3"
  },
  "language_info": {
   "codemirror_mode": {
    "name": "ipython",
    "version": 3
   },
   "file_extension": ".py",
   "mimetype": "text/x-python",
   "name": "python",
   "nbconvert_exporter": "python",
   "pygments_lexer": "ipython3",
   "version": "3.13.3"
  }
 },
 "nbformat": 4,
 "nbformat_minor": 5
}
