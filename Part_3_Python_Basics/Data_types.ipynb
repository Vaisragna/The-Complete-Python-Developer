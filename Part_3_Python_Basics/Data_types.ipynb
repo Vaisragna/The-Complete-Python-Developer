{
 "cells": [
  {
   "cell_type": "markdown",
   "id": "9f4ef3aa",
   "metadata": {},
   "source": [
    "1.Data Types"
   ]
  },
  {
   "cell_type": "markdown",
   "id": "0ecf3ed7",
   "metadata": {
    "vscode": {
     "languageId": "plaintext"
    }
   },
   "source": [
    "1.1. Integer"
   ]
  },
  {
   "cell_type": "code",
   "execution_count": null,
   "id": "72eebcb4",
   "metadata": {},
   "outputs": [],
   "source": [
    "int"
   ]
  },
  {
   "cell_type": "markdown",
   "id": "56b5ad83",
   "metadata": {},
   "source": [
    "An integer is a whole number that can be either positive, negative or zero."
   ]
  },
  {
   "cell_type": "markdown",
   "id": "ef26dd04",
   "metadata": {},
   "source": [
    "1.2. Floating point number"
   ]
  },
  {
   "cell_type": "code",
   "execution_count": null,
   "id": "a30b7682",
   "metadata": {},
   "outputs": [],
   "source": [
    "float"
   ]
  },
  {
   "cell_type": "markdown",
   "id": "3cc96511",
   "metadata": {},
   "source": [
    "A float is a number that has a decimal point or is written in exponential notation."
   ]
  },
  {
   "cell_type": "markdown",
   "id": "eb1cad02",
   "metadata": {},
   "source": [
    "1.3. Boolean"
   ]
  },
  {
   "cell_type": "code",
   "execution_count": null,
   "id": "02e11523",
   "metadata": {},
   "outputs": [],
   "source": [
    "bool"
   ]
  },
  {
   "cell_type": "markdown",
   "id": "bb724732",
   "metadata": {},
   "source": [
    "A boolean is a datatype that represents two possible values (true \"1\" or false \"0\")."
   ]
  },
  {
   "cell_type": "markdown",
   "id": "bdc21acb",
   "metadata": {},
   "source": [
    "1.4. String"
   ]
  },
  {
   "cell_type": "code",
   "execution_count": null,
   "id": "6ea84357",
   "metadata": {},
   "outputs": [],
   "source": [
    "str"
   ]
  },
  {
   "cell_type": "markdown",
   "id": "58ae057c",
   "metadata": {},
   "source": [
    "A string is a sequence of characters used to represent text."
   ]
  },
  {
   "cell_type": "markdown",
   "id": "5c440a4c",
   "metadata": {},
   "source": [
    "1.5. List"
   ]
  },
  {
   "cell_type": "code",
   "execution_count": null,
   "id": "ae76f633",
   "metadata": {},
   "outputs": [],
   "source": [
    "list"
   ]
  },
  {
   "cell_type": "markdown",
   "id": "39eaae41",
   "metadata": {},
   "source": [
    "A list is a data type that stores an ordered collection of items, which can be of any data type-integers,floats,booleans,strings, or even other lists."
   ]
  },
  {
   "cell_type": "markdown",
   "id": "b916b564",
   "metadata": {},
   "source": [
    "1.6. Tuple"
   ]
  },
  {
   "cell_type": "code",
   "execution_count": null,
   "id": "85f5a8a3",
   "metadata": {},
   "outputs": [],
   "source": [
    "tuple"
   ]
  },
  {
   "cell_type": "markdown",
   "id": "dfbacb74",
   "metadata": {},
   "source": [
    "A tuple is a data type that stores and ordered collection of items, just like a list, but with one key difference (tuples are immutable), meaning you cannot change, add, or remove items after creation."
   ]
  },
  {
   "cell_type": "markdown",
   "id": "a860699d",
   "metadata": {},
   "source": [
    "1.7. Set"
   ]
  },
  {
   "cell_type": "code",
   "execution_count": null,
   "id": "fb557934",
   "metadata": {},
   "outputs": [],
   "source": [
    "set"
   ]
  },
  {
   "cell_type": "markdown",
   "id": "d19f37b1",
   "metadata": {},
   "source": [
    "A set is a data type that stores an unordered (No guaranteed order of elements) collection of unique items (duplicate values are automatically removed)."
   ]
  },
  {
   "cell_type": "markdown",
   "id": "cf8d73f5",
   "metadata": {},
   "source": [
    "1.8. Dictionary"
   ]
  },
  {
   "cell_type": "code",
   "execution_count": null,
   "id": "800b119f",
   "metadata": {},
   "outputs": [],
   "source": [
    "dict"
   ]
  },
  {
   "cell_type": "markdown",
   "id": "fd9f3fd4",
   "metadata": {},
   "source": [
    "A dict is a data type that stores key (unique and immutable) value (can be any data type) pairs."
   ]
  }
 ],
 "metadata": {
  "kernelspec": {
   "display_name": "Python 3",
   "language": "python",
   "name": "python3"
  },
  "language_info": {
   "codemirror_mode": {
    "name": "ipython",
    "version": 3
   },
   "file_extension": ".py",
   "mimetype": "text/x-python",
   "name": "python",
   "nbconvert_exporter": "python",
   "pygments_lexer": "ipython3",
   "version": "3.13.3"
  }
 },
 "nbformat": 4,
 "nbformat_minor": 5
}
