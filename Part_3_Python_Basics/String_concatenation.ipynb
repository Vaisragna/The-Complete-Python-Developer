{
 "cells": [
  {
   "cell_type": "markdown",
   "id": "aa3c8eee",
   "metadata": {},
   "source": [
    "    String Concatenation"
   ]
  },
  {
   "cell_type": "markdown",
   "id": "be30a0c0",
   "metadata": {},
   "source": [
    "String concatenation in Python is the operation of joining two or more strings together into a single string."
   ]
  },
  {
   "cell_type": "code",
   "execution_count": 1,
   "id": "1db989fe",
   "metadata": {},
   "outputs": [
    {
     "name": "stdout",
     "output_type": "stream",
     "text": [
      "hello Juan\n"
     ]
    }
   ],
   "source": [
    "print( 'hello' + ' Juan')"
   ]
  }
 ],
 "metadata": {
  "kernelspec": {
   "display_name": "Python 3",
   "language": "python",
   "name": "python3"
  },
  "language_info": {
   "codemirror_mode": {
    "name": "ipython",
    "version": 3
   },
   "file_extension": ".py",
   "mimetype": "text/x-python",
   "name": "python",
   "nbconvert_exporter": "python",
   "pygments_lexer": "ipython3",
   "version": "3.13.3"
  }
 },
 "nbformat": 4,
 "nbformat_minor": 5
}
