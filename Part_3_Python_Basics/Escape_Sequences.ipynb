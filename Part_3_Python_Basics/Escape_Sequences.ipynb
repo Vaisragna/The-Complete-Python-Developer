{
 "cells": [
  {
   "cell_type": "markdown",
   "id": "97f9d253",
   "metadata": {},
   "source": [
    "    Escape Sequence"
   ]
  },
  {
   "cell_type": "markdown",
   "id": "ec1a3e3f",
   "metadata": {},
   "source": [
    "An escape sequence in Python is a special combination of characters that starts with a backslash (\\) and represents something that is difficult or impossible to write directly in a string."
   ]
  },
  {
   "cell_type": "code",
   "execution_count": 1,
   "id": "85d093ce",
   "metadata": {},
   "outputs": [
    {
     "name": "stdout",
     "output_type": "stream",
     "text": [
      "It's \"kind of\" sunny\n"
     ]
    }
   ],
   "source": [
    "weather = \"It\\'s \\\"kind of\\\" sunny\"\n",
    "print(weather)"
   ]
  },
  {
   "cell_type": "code",
   "execution_count": 2,
   "id": "b39870e7",
   "metadata": {},
   "outputs": [
    {
     "name": "stdout",
     "output_type": "stream",
     "text": [
      "It\\'s \"kind of\" sunny\n"
     ]
    }
   ],
   "source": [
    "weather2 = \"It\\\\'s \\\"kind of\\\" sunny\"\n",
    "print(weather2)"
   ]
  },
  {
   "cell_type": "code",
   "execution_count": 3,
   "id": "efd2053e",
   "metadata": {},
   "outputs": [
    {
     "name": "stdout",
     "output_type": "stream",
     "text": [
      "\t It\\'s \"kind of\" sunny\n"
     ]
    }
   ],
   "source": [
    "weather3 = \"\\t It\\\\'s \\\"kind of\\\" sunny\"\n",
    "print(weather3)"
   ]
  },
  {
   "cell_type": "code",
   "execution_count": 4,
   "id": "b76ea3fb",
   "metadata": {},
   "outputs": [
    {
     "name": "stdout",
     "output_type": "stream",
     "text": [
      "\t It\\'s \"kind of\" sunny \n",
      " hope you have a good day\n"
     ]
    }
   ],
   "source": [
    "weather4 = \"\\t It\\\\'s \\\"kind of\\\" sunny \\n hope you have a good day\"\n",
    "print(weather4)"
   ]
  }
 ],
 "metadata": {
  "kernelspec": {
   "display_name": "Python 3",
   "language": "python",
   "name": "python3"
  },
  "language_info": {
   "codemirror_mode": {
    "name": "ipython",
    "version": 3
   },
   "file_extension": ".py",
   "mimetype": "text/x-python",
   "name": "python",
   "nbconvert_exporter": "python",
   "pygments_lexer": "ipython3",
   "version": "3.13.3"
  }
 },
 "nbformat": 4,
 "nbformat_minor": 5
}
