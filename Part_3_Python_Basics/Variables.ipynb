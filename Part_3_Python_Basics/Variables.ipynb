{
 "cells": [
  {
   "cell_type": "markdown",
   "id": "93efaff9",
   "metadata": {},
   "source": [
    "    Variables"
   ]
  },
  {
   "cell_type": "markdown",
   "id": "d27a200d",
   "metadata": {},
   "source": [
    "A variable in Python is a name that refers to a value stored in memory. You can think of it as a label for some data. Variables allow you to store, access, and manipulate data in your program."
   ]
  }
 ],
 "metadata": {
  "language_info": {
   "name": "python"
  }
 },
 "nbformat": 4,
 "nbformat_minor": 5
}
