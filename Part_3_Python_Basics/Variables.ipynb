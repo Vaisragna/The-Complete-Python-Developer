{
 "cells": [
  {
   "cell_type": "markdown",
   "id": "93efaff9",
   "metadata": {},
   "source": [
    "    Variables"
   ]
  },
  {
   "cell_type": "markdown",
   "id": "d27a200d",
   "metadata": {},
   "source": [
    "A variable in Python is a name that refers to a value stored in memory. You can think of it as a label for some data. Variables allow you to store, access, and manipulate data in your program."
   ]
  },
  {
   "cell_type": "code",
   "execution_count": 1,
   "id": "918bd89e",
   "metadata": {},
   "outputs": [],
   "source": [
    "iq = 190"
   ]
  },
  {
   "cell_type": "code",
   "execution_count": 2,
   "id": "e26f22af",
   "metadata": {},
   "outputs": [
    {
     "name": "stdout",
     "output_type": "stream",
     "text": [
      "190\n"
     ]
    }
   ],
   "source": [
    "print(iq)"
   ]
  },
  {
   "cell_type": "markdown",
   "id": "be838ebf",
   "metadata": {},
   "source": [
    "    Best practices"
   ]
  },
  {
   "cell_type": "markdown",
   "id": "c8e95e38",
   "metadata": {},
   "source": [
    "    1. snake_case"
   ]
  },
  {
   "cell_type": "code",
   "execution_count": 3,
   "id": "26ff212a",
   "metadata": {},
   "outputs": [],
   "source": [
    "user_iq = 190"
   ]
  },
  {
   "cell_type": "markdown",
   "id": "8b85e69f",
   "metadata": {},
   "source": [
    "    2. Start with lowercase or underscore "
   ]
  },
  {
   "cell_type": "code",
   "execution_count": 4,
   "id": "e1cfb385",
   "metadata": {},
   "outputs": [],
   "source": [
    "_user_iq = 190"
   ]
  },
  {
   "cell_type": "markdown",
   "id": "edc91427",
   "metadata": {},
   "source": [
    "    3. Letters, numbers, underscores "
   ]
  },
  {
   "cell_type": "code",
   "execution_count": 5,
   "id": "0b09a033",
   "metadata": {},
   "outputs": [],
   "source": [
    "_us4er_iq3 = 190"
   ]
  },
  {
   "cell_type": "markdown",
   "id": "e47c6cf4",
   "metadata": {},
   "source": [
    "    4. Case sensitive"
   ]
  },
  {
   "cell_type": "code",
   "execution_count": 6,
   "id": "839eb9d6",
   "metadata": {},
   "outputs": [],
   "source": [
    "user_IQ = 190"
   ]
  },
  {
   "cell_type": "markdown",
   "id": "dd523955",
   "metadata": {},
   "source": [
    "    5. Dont overwrite keywords"
   ]
  },
  {
   "cell_type": "code",
   "execution_count": null,
   "id": "d33cb002",
   "metadata": {},
   "outputs": [],
   "source": [
    "print = 190\n",
    "\n",
    "print(print)"
   ]
  },
  {
   "cell_type": "code",
   "execution_count": 19,
   "id": "8d3ef151",
   "metadata": {},
   "outputs": [],
   "source": [
    "del print"
   ]
  },
  {
   "cell_type": "markdown",
   "id": "a2304e1a",
   "metadata": {},
   "source": [
    "https://www.w3schools.com/python/python_ref_keywords.asp"
   ]
  },
  {
   "cell_type": "markdown",
   "id": "36c7a49e",
   "metadata": {},
   "source": [
    "    Costants"
   ]
  },
  {
   "cell_type": "markdown",
   "id": "aa365f56",
   "metadata": {},
   "source": [
    "In Python, a constant is a variable whose value is not intended to change during the execution of a program."
   ]
  },
  {
   "cell_type": "code",
   "execution_count": 9,
   "id": "817dacdb",
   "metadata": {},
   "outputs": [],
   "source": [
    "PI = 3.14"
   ]
  },
  {
   "cell_type": "markdown",
   "id": "f1e0a9a7",
   "metadata": {},
   "source": [
    "    Dunders"
   ]
  },
  {
   "cell_type": "markdown",
   "id": "cf16bdd3",
   "metadata": {},
   "source": [
    "A dunder is short for \"double underscore\" — it refers to names in Python that start and end with two underscores."
   ]
  },
  {
   "cell_type": "code",
   "execution_count": null,
   "id": "56f12f51",
   "metadata": {},
   "outputs": [],
   "source": [
    "__annotations__"
   ]
  },
  {
   "cell_type": "markdown",
   "id": "26fbe648",
   "metadata": {},
   "source": [
    "    Multiple variable allocation"
   ]
  },
  {
   "cell_type": "code",
   "execution_count": 21,
   "id": "3e986259",
   "metadata": {},
   "outputs": [
    {
     "name": "stdout",
     "output_type": "stream",
     "text": [
      "1\n",
      "2\n",
      "3\n"
     ]
    }
   ],
   "source": [
    "a,b,c = 1,2,3\n",
    "\n",
    "print(a)\n",
    "print(b)\n",
    "print(c)"
   ]
  }
 ],
 "metadata": {
  "kernelspec": {
   "display_name": "Python 3",
   "language": "python",
   "name": "python3"
  },
  "language_info": {
   "codemirror_mode": {
    "name": "ipython",
    "version": 3
   },
   "file_extension": ".py",
   "mimetype": "text/x-python",
   "name": "python",
   "nbconvert_exporter": "python",
   "pygments_lexer": "ipython3",
   "version": "3.13.3"
  }
 },
 "nbformat": 4,
 "nbformat_minor": 5
}
