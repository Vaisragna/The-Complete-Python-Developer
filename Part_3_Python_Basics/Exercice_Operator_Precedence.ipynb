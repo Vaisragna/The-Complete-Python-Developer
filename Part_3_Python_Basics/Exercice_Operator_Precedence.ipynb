{
 "cells": [
  {
   "cell_type": "markdown",
   "id": "3ec42bcf",
   "metadata": {},
   "source": [
    "    Exercice: Operator Precedence"
   ]
  },
  {
   "cell_type": "markdown",
   "id": "d1e6ea69",
   "metadata": {},
   "source": [
    "Guess the output of each answer before you click RUN"
   ]
  },
  {
   "cell_type": "markdown",
   "id": "9e9d6b2e",
   "metadata": {},
   "source": [
    "Try to write down your answer before and see how you do... keep it mind I made it a little tricky for you :)"
   ]
  },
  {
   "cell_type": "code",
   "execution_count": 1,
   "id": "1ef66933",
   "metadata": {},
   "outputs": [
    {
     "name": "stdout",
     "output_type": "stream",
     "text": [
      "45.0\n"
     ]
    }
   ],
   "source": [
    "print((5 + 4) * 10 / 2)"
   ]
  },
  {
   "cell_type": "markdown",
   "id": "15236bc5",
   "metadata": {},
   "source": [
    "Guess: (5+4)-> (9 * 10)-> (90/2)-> 45"
   ]
  },
  {
   "cell_type": "code",
   "execution_count": 2,
   "id": "bb1ad801",
   "metadata": {},
   "outputs": [
    {
     "name": "stdout",
     "output_type": "stream",
     "text": [
      "45.0\n"
     ]
    }
   ],
   "source": [
    "print(((5 + 4) * 10) / 2)"
   ]
  },
  {
   "cell_type": "markdown",
   "id": "cb4e24cf",
   "metadata": {},
   "source": [
    "Guess: (5+4)-> (9*10)-> (90/2)->45"
   ]
  },
  {
   "cell_type": "code",
   "execution_count": 3,
   "id": "5b4665eb",
   "metadata": {},
   "outputs": [
    {
     "name": "stdout",
     "output_type": "stream",
     "text": [
      "45.0\n"
     ]
    }
   ],
   "source": [
    "print((5 + 4) * (10 / 2))"
   ]
  },
  {
   "cell_type": "markdown",
   "id": "10f01d68",
   "metadata": {},
   "source": [
    "Guess:: (5+4)->9, (10/2)->5, (9*5)-> 45"
   ]
  },
  {
   "cell_type": "code",
   "execution_count": 4,
   "id": "6722311d",
   "metadata": {},
   "outputs": [
    {
     "name": "stdout",
     "output_type": "stream",
     "text": [
      "25.0\n"
     ]
    }
   ],
   "source": [
    "print(5 + (4 * 10) / 2)"
   ]
  },
  {
   "cell_type": "markdown",
   "id": "70ca2cef",
   "metadata": {},
   "source": [
    "Guess: (4 * 10)-> (40/2) -> (20+5)-> 25"
   ]
  },
  {
   "cell_type": "code",
   "execution_count": 5,
   "id": "d6f20f15",
   "metadata": {},
   "outputs": [
    {
     "name": "stdout",
     "output_type": "stream",
     "text": [
      "25\n"
     ]
    }
   ],
   "source": [
    "print(5 + 4 * 10 // 2)"
   ]
  },
  {
   "cell_type": "markdown",
   "id": "4697fa5b",
   "metadata": {},
   "source": [
    "Guess: (4*10)-> (40//2)-> (20+5)->25"
   ]
  }
 ],
 "metadata": {
  "kernelspec": {
   "display_name": "Python 3",
   "language": "python",
   "name": "python3"
  },
  "language_info": {
   "codemirror_mode": {
    "name": "ipython",
    "version": 3
   },
   "file_extension": ".py",
   "mimetype": "text/x-python",
   "name": "python",
   "nbconvert_exporter": "python",
   "pygments_lexer": "ipython3",
   "version": "3.13.3"
  }
 },
 "nbformat": 4,
 "nbformat_minor": 5
}
