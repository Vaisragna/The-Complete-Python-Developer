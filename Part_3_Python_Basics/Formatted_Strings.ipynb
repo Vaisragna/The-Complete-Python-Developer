{
 "cells": [
  {
   "cell_type": "markdown",
   "id": "265f043c",
   "metadata": {},
   "source": [
    "    Formatted Strings"
   ]
  },
  {
   "cell_type": "markdown",
   "id": "3153bac4",
   "metadata": {},
   "source": [
    "Formatted strings in Python are strings that allow you to insert variables or expressions directly into the string, making it easier to create dynamic, readable output."
   ]
  },
  {
   "cell_type": "code",
   "execution_count": 1,
   "id": "8dec370a",
   "metadata": {},
   "outputs": [
    {
     "name": "stdout",
     "output_type": "stream",
     "text": [
      "hi Juan\n"
     ]
    }
   ],
   "source": [
    "name = 'Juan'\n",
    "print('hi ' + name)"
   ]
  },
  {
   "cell_type": "code",
   "execution_count": 3,
   "id": "ac618e97",
   "metadata": {},
   "outputs": [
    {
     "name": "stdout",
     "output_type": "stream",
     "text": [
      "hi Juan. You are 35 year old\n"
     ]
    }
   ],
   "source": [
    "name = 'Juan'\n",
    "age = 35\n",
    "print('hi ' + name + '. You are ' + str(age) + ' year old')"
   ]
  },
  {
   "cell_type": "code",
   "execution_count": 4,
   "id": "a8de5d27",
   "metadata": {},
   "outputs": [
    {
     "name": "stdout",
     "output_type": "stream",
     "text": [
      "hi Juan. You are 35 year old\n"
     ]
    }
   ],
   "source": [
    "name = 'Juan'\n",
    "age = 35\n",
    "print(f'hi {name}. You are {age} year old')"
   ]
  },
  {
   "cell_type": "code",
   "execution_count": null,
   "id": "439eef62",
   "metadata": {},
   "outputs": [
    {
     "name": "stdout",
     "output_type": "stream",
     "text": [
      "hi Juan. You are 55 year old\n"
     ]
    }
   ],
   "source": [
    "print('hi {}. You are {} year old'.format('Juan', '55'))"
   ]
  },
  {
   "cell_type": "code",
   "execution_count": 7,
   "id": "a546a48e",
   "metadata": {},
   "outputs": [
    {
     "name": "stdout",
     "output_type": "stream",
     "text": [
      "hi Juan. You are 35 year old\n"
     ]
    }
   ],
   "source": [
    "name = 'Juan'\n",
    "age = 35\n",
    "print('hi {}. You are {} year old'.format(name, age))"
   ]
  },
  {
   "cell_type": "code",
   "execution_count": 8,
   "id": "7484965b",
   "metadata": {},
   "outputs": [
    {
     "name": "stdout",
     "output_type": "stream",
     "text": [
      "hi 35. You are Juan year old\n"
     ]
    }
   ],
   "source": [
    "name = 'Juan'\n",
    "age = 35\n",
    "print('hi {1}. You are {0} year old'.format(name, age))"
   ]
  },
  {
   "cell_type": "code",
   "execution_count": 9,
   "id": "64ff35d8",
   "metadata": {},
   "outputs": [
    {
     "name": "stdout",
     "output_type": "stream",
     "text": [
      "hi Juan. You are 35 year old\n"
     ]
    }
   ],
   "source": [
    "print('hi {new_name}. You are {new_age} year old'.format(new_name='Juan', new_age ='35'))"
   ]
  }
 ],
 "metadata": {
  "kernelspec": {
   "display_name": "Python 3",
   "language": "python",
   "name": "python3"
  },
  "language_info": {
   "codemirror_mode": {
    "name": "ipython",
    "version": 3
   },
   "file_extension": ".py",
   "mimetype": "text/x-python",
   "name": "python",
   "nbconvert_exporter": "python",
   "pygments_lexer": "ipython3",
   "version": "3.13.3"
  }
 },
 "nbformat": 4,
 "nbformat_minor": 5
}
