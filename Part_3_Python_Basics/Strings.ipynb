{
 "cells": [
  {
   "cell_type": "markdown",
   "id": "3fc4170a",
   "metadata": {},
   "source": [
    "    Strings"
   ]
  },
  {
   "cell_type": "markdown",
   "id": "a57d926e",
   "metadata": {},
   "source": [
    "In Python, a string is a sequence of characters enclosed in quotes. It is used to represent textual data."
   ]
  },
  {
   "cell_type": "code",
   "execution_count": 1,
   "id": "d7c18b1b",
   "metadata": {},
   "outputs": [
    {
     "data": {
      "text/plain": [
       "'hi hello there'"
      ]
     },
     "execution_count": 1,
     "metadata": {},
     "output_type": "execute_result"
    }
   ],
   "source": [
    "'hi hello there'\n",
    "\n",
    "\"hi hello there\""
   ]
  },
  {
   "cell_type": "code",
   "execution_count": 2,
   "id": "9af0e200",
   "metadata": {},
   "outputs": [
    {
     "name": "stdout",
     "output_type": "stream",
     "text": [
      "<class 'str'>\n",
      "<class 'str'>\n"
     ]
    }
   ],
   "source": [
    "print(type('hi hello there'))\n",
    "print(type(\"hi hello there\"))"
   ]
  },
  {
   "cell_type": "code",
   "execution_count": null,
   "id": "38740fd3",
   "metadata": {},
   "outputs": [],
   "source": [
    "username = 'supercoder'\n",
    "password = 'supersecret'"
   ]
  }
 ],
 "metadata": {
  "kernelspec": {
   "display_name": "Python 3",
   "language": "python",
   "name": "python3"
  },
  "language_info": {
   "codemirror_mode": {
    "name": "ipython",
    "version": 3
   },
   "file_extension": ".py",
   "mimetype": "text/x-python",
   "name": "python",
   "nbconvert_exporter": "python",
   "pygments_lexer": "ipython3",
   "version": "3.13.3"
  }
 },
 "nbformat": 4,
 "nbformat_minor": 5
}
