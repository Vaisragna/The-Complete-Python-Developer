{
 "cells": [
  {
   "cell_type": "markdown",
   "id": "ff97c9ef",
   "metadata": {},
   "source": [
    "1.Numbers"
   ]
  },
  {
   "cell_type": "markdown",
   "id": "9414c886",
   "metadata": {},
   "source": [
    "1.1. Integers"
   ]
  },
  {
   "cell_type": "code",
   "execution_count": 5,
   "id": "2b2f30d7",
   "metadata": {},
   "outputs": [
    {
     "name": "stdout",
     "output_type": "stream",
     "text": [
      "6\n"
     ]
    }
   ],
   "source": [
    "print(2 + 4)"
   ]
  },
  {
   "cell_type": "code",
   "execution_count": 8,
   "id": "aefae68c",
   "metadata": {},
   "outputs": [
    {
     "name": "stdout",
     "output_type": "stream",
     "text": [
      "<class 'int'>\n"
     ]
    }
   ],
   "source": [
    "print(type(2 + 4))"
   ]
  },
  {
   "cell_type": "code",
   "execution_count": 6,
   "id": "c0436a53",
   "metadata": {},
   "outputs": [
    {
     "name": "stdout",
     "output_type": "stream",
     "text": [
      "-2\n"
     ]
    }
   ],
   "source": [
    "print(2 - 4)"
   ]
  },
  {
   "cell_type": "code",
   "execution_count": 9,
   "id": "b4747a69",
   "metadata": {},
   "outputs": [
    {
     "name": "stdout",
     "output_type": "stream",
     "text": [
      "<class 'int'>\n"
     ]
    }
   ],
   "source": [
    "print(type(2 - 4))"
   ]
  },
  {
   "cell_type": "code",
   "execution_count": 7,
   "id": "bc1f2dcb",
   "metadata": {},
   "outputs": [
    {
     "name": "stdout",
     "output_type": "stream",
     "text": [
      "8\n"
     ]
    }
   ],
   "source": [
    "print (2 * 4)"
   ]
  },
  {
   "cell_type": "code",
   "execution_count": null,
   "id": "62c7ded4",
   "metadata": {},
   "outputs": [
    {
     "name": "stdout",
     "output_type": "stream",
     "text": [
      "<class 'int'>\n"
     ]
    }
   ],
   "source": [
    "print (type(2 * 4))"
   ]
  },
  {
   "cell_type": "code",
   "execution_count": 12,
   "id": "004b012a",
   "metadata": {},
   "outputs": [
    {
     "name": "stdout",
     "output_type": "stream",
     "text": [
      "16\n"
     ]
    }
   ],
   "source": [
    "print(2 ** 4)"
   ]
  },
  {
   "cell_type": "code",
   "execution_count": 13,
   "id": "45cb6646",
   "metadata": {},
   "outputs": [
    {
     "name": "stdout",
     "output_type": "stream",
     "text": [
      "<class 'int'>\n"
     ]
    }
   ],
   "source": [
    "print(type(2 ** 4))"
   ]
  },
  {
   "cell_type": "code",
   "execution_count": 15,
   "id": "3c8f0710",
   "metadata": {},
   "outputs": [
    {
     "name": "stdout",
     "output_type": "stream",
     "text": [
      "0\n"
     ]
    }
   ],
   "source": [
    "print (2 // 4)"
   ]
  },
  {
   "cell_type": "code",
   "execution_count": 16,
   "id": "dc3ab725",
   "metadata": {},
   "outputs": [
    {
     "name": "stdout",
     "output_type": "stream",
     "text": [
      "<class 'int'>\n"
     ]
    }
   ],
   "source": [
    "print (type(2 // 4))"
   ]
  },
  {
   "cell_type": "code",
   "execution_count": 17,
   "id": "d2576829",
   "metadata": {},
   "outputs": [
    {
     "name": "stdout",
     "output_type": "stream",
     "text": [
      "2\n"
     ]
    }
   ],
   "source": [
    "print (2 % 4)"
   ]
  },
  {
   "cell_type": "code",
   "execution_count": 19,
   "id": "8ea8565d",
   "metadata": {},
   "outputs": [
    {
     "name": "stdout",
     "output_type": "stream",
     "text": [
      "<class 'int'>\n"
     ]
    }
   ],
   "source": [
    "print (type(2 % 4))"
   ]
  },
  {
   "cell_type": "markdown",
   "id": "0d42e813",
   "metadata": {},
   "source": [
    "1.2. Floats"
   ]
  },
  {
   "cell_type": "code",
   "execution_count": null,
   "id": "7b32dc9c",
   "metadata": {},
   "outputs": [
    {
     "name": "stdout",
     "output_type": "stream",
     "text": [
      "0.5\n"
     ]
    }
   ],
   "source": [
    "print (2 / 4)"
   ]
  },
  {
   "cell_type": "code",
   "execution_count": 11,
   "id": "3a063e55",
   "metadata": {},
   "outputs": [
    {
     "name": "stdout",
     "output_type": "stream",
     "text": [
      "<class 'float'>\n"
     ]
    }
   ],
   "source": [
    "print (type(2 / 4))"
   ]
  },
  {
   "cell_type": "markdown",
   "id": "9fa55865",
   "metadata": {},
   "source": [
    "https://www.youtube.com/watch?v=PZRI1IfStY0&ab_channel=Computerphile"
   ]
  }
 ],
 "metadata": {
  "kernelspec": {
   "display_name": "Python 3",
   "language": "python",
   "name": "python3"
  },
  "language_info": {
   "codemirror_mode": {
    "name": "ipython",
    "version": 3
   },
   "file_extension": ".py",
   "mimetype": "text/x-python",
   "name": "python",
   "nbconvert_exporter": "python",
   "pygments_lexer": "ipython3",
   "version": "3.13.3"
  }
 },
 "nbformat": 4,
 "nbformat_minor": 5
}
