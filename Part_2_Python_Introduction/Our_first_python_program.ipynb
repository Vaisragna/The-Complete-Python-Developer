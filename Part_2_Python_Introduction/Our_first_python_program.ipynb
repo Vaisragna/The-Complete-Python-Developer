{
 "cells": [
  {
   "cell_type": "code",
   "execution_count": 1,
   "id": "9c23bb1a-6a5a-42c6-9808-5b2ce151adbc",
   "metadata": {},
   "outputs": [
    {
     "name": "stdout",
     "output_type": "stream",
     "text": [
      "Juan Sebastian Carvajal Niño\n"
     ]
    }
   ],
   "source": [
    "print('Juan Sebastian Carvajal Niño')"
   ]
  },
  {
   "cell_type": "code",
   "execution_count": 15,
   "id": "9a29145b-4c85-4545-8e7d-6e4d36575da3",
   "metadata": {
    "scrolled": true
   },
   "outputs": [
    {
     "name": "stdin",
     "output_type": "stream",
     "text": [
      "What is your name? Juan\n"
     ]
    },
    {
     "data": {
      "text/plain": [
       "'Juan'"
      ]
     },
     "execution_count": 15,
     "metadata": {},
     "output_type": "execute_result"
    }
   ],
   "source": [
    "input('What is your name?')"
   ]
  },
  {
   "cell_type": "code",
   "execution_count": 7,
   "id": "52daa706-0d33-49ad-b303-158cb8111ab2",
   "metadata": {},
   "outputs": [
    {
     "name": "stdin",
     "output_type": "stream",
     "text": [
      "What is your name? Juan Sebastian\n"
     ]
    }
   ],
   "source": [
    "name = input('What is your name?')"
   ]
  },
  {
   "cell_type": "code",
   "execution_count": 9,
   "id": "503e0785-6a24-4878-bce5-5f300b6b65a8",
   "metadata": {},
   "outputs": [
    {
     "name": "stdout",
     "output_type": "stream",
     "text": [
      "Juan Sebastian\n"
     ]
    }
   ],
   "source": [
    "print(name)"
   ]
  },
  {
   "cell_type": "code",
   "execution_count": 17,
   "id": "1f42b904-323d-4e81-b472-6ee7b8911acf",
   "metadata": {},
   "outputs": [
    {
     "name": "stdout",
     "output_type": "stream",
     "text": [
      "heeelloooo Juan Sebastian\n"
     ]
    }
   ],
   "source": [
    "print('heeelloooo ' + name)"
   ]
  },
  {
   "cell_type": "code",
   "execution_count": null,
   "id": "58d8684c-38bc-479d-8c35-f2fb8f576cf3",
   "metadata": {},
   "outputs": [],
   "source": []
  }
 ],
 "metadata": {
  "kernelspec": {
   "display_name": "Python 3 (ipykernel)",
   "language": "python",
   "name": "python3"
  },
  "language_info": {
   "codemirror_mode": {
    "name": "ipython",
    "version": 3
   },
   "file_extension": ".py",
   "mimetype": "text/x-python",
   "name": "python",
   "nbconvert_exporter": "python",
   "pygments_lexer": "ipython3",
   "version": "3.12.4"
  }
 },
 "nbformat": 4,
 "nbformat_minor": 5
}
